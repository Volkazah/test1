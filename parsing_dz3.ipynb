{
 "cells": [
  {
   "cell_type": "markdown",
   "metadata": {},
   "source": [
    "# *Содержание* \n",
    "- [Подключение к API](#Подключение-к-API-VK)\n",
    "-[Выборка и ее обснование с проверкой](#Обоснование-выборки-и-проверка)\n",
    "- [Выгрузка данных](#Выгрузка-данных-с-3-групп)\n",
    "- [Обработка данных](#Обработка-и-чистка-датафрейма)\n",
    "    * [Удаление нерепрезентативных пропусков](#Удаление-пустых-значений-по-столбцам)\n",
    "        * [Столбец ID](#ID)\n",
    "        * [Столбец City](#City)\n",
    "        * [Столбец Country](#Country)\n",
    "        * [Столбец University](#University)\n",
    "        * [Столбец Bdate](#Bdate)\n",
    "        * [Столбец Deactivated](#Deactivated)\n",
    "    * [Привод значений к единому виду](#Приведение-данных-к-единому-виду)\n",
    "        * [Столбец sex](#sex)\n",
    "        * [Столбец Country](#Country)\n",
    "        * [Столбец Is_closed](#Is_closed)\n",
    "        * [Столбец B_year](#B_year)\n",
    "- [Анализ и визуализация](#Анализ-и-визуализация)\n",
    "    * [Подсчет значений](#Подсчеты)\n",
    "    * [Создание сводных таблиц](#Таблицы)\n",
    "    * [Построение графиков](#Графики)"
   ]
  },
  {
   "cell_type": "markdown",
   "metadata": {},
   "source": [
    "# Подключение к API VK"
   ]
  },
  {
   "cell_type": "code",
   "execution_count": 1,
   "metadata": {},
   "outputs": [],
   "source": [
    "import datetime                 \n",
    "import pickle                    \n",
    "import requests                  \n",
    "import pandas as pd              \n",
    "import numpy as np               \n",
    "import matplotlib.pyplot as plt  \n",
    "import time            \n",
    "        \n",
    "\n",
    "from tqdm import tqdm_notebook   "
   ]
  },
  {
   "cell_type": "code",
   "execution_count": 2,
   "metadata": {},
   "outputs": [
    {
     "name": "stdout",
     "output_type": "stream",
     "text": [
      "Defaulting to user installation because normal site-packages is not writeable\n",
      "Requirement already satisfied: flatten_json in c:\\users\\hp\\appdata\\roaming\\python\\python39\\site-packages (0.1.14)\n",
      "Requirement already satisfied: six in c:\\games\\anaconda\\lib\\site-packages (from flatten_json) (1.16.0)\n",
      "Note: you may need to restart the kernel to use updated packages.\n"
     ]
    }
   ],
   "source": [
    "pip install flatten_json"
   ]
  },
  {
   "cell_type": "code",
   "execution_count": 3,
   "metadata": {},
   "outputs": [
    {
     "name": "stdout",
     "output_type": "stream",
     "text": [
      "Defaulting to user installation because normal site-packages is not writeable\n",
      "Requirement already satisfied: tqdm in c:\\games\\anaconda\\lib\\site-packages (4.64.1)\n",
      "Requirement already satisfied: colorama in c:\\games\\anaconda\\lib\\site-packages (from tqdm) (0.4.5)\n",
      "Note: you may need to restart the kernel to use updated packages.\n"
     ]
    }
   ],
   "source": [
    "pip install tqdm"
   ]
  },
  {
   "cell_type": "code",
   "execution_count": 9,
   "metadata": {},
   "outputs": [],
   "source": [
    "# мой номер странички\n",
    "my_user_id = 369353732\n",
    "# версия используемого API\n",
    "version = '5.103' \n",
    "# подгружаем токен\n",
    "with open('markeraccess.txt') as f:\n",
    "    token = f.read()"
   ]
  },
  {
   "cell_type": "code",
   "execution_count": 10,
   "metadata": {},
   "outputs": [],
   "source": [
    "url = \"https://api.vk.com/method/users.get?user_ids={user_id}&access_token={token}&v={version}\"\n",
    "url = url.format(user_id=my_user_id, token=token, version=version)"
   ]
  },
  {
   "cell_type": "code",
   "execution_count": 12,
   "metadata": {},
   "outputs": [
    {
     "data": {
      "text/plain": [
       "<Response [200]>"
      ]
     },
     "execution_count": 12,
     "metadata": {},
     "output_type": "execute_result"
    }
   ],
   "source": [
    "# проверяю соединение\n",
    "response = requests.get(url) \n",
    "response"
   ]
  },
  {
   "cell_type": "markdown",
   "metadata": {},
   "source": [
    "# Обоснование выборки и проверка"
   ]
  },
  {
   "cell_type": "code",
   "execution_count": 6,
   "metadata": {},
   "outputs": [],
   "source": [
    "# Создаю словарь с официальными игровыми пабликами ВК и их тегами. Выборка обусловленна: 1- наличием официальной группы, 2- предположительно разновозрастной целевой аудиторией 3- количество подписчиков больше 5 тысяч.  \n",
    "game_groups = {\n",
    "    'Тарков' : 'tarkovarena',\n",
    "    'Дестени' : 'destinythegame',\n",
    "    'Бравлстарс' : 'brawl_stars'\n",
    "}"
   ]
  },
  {
   "cell_type": "code",
   "execution_count": 191,
   "metadata": {},
   "outputs": [],
   "source": [
    "# Функция для выгрузки ID всех пользователей определенного паблика\n",
    "\n",
    "def getGroupMembers(group_id): \n",
    "    # подсчет необходимого числа запросов\n",
    "    count = vkDownload('groups.getMembers','group_id=' + group_id)['response']['count']\n",
    "    n = int(np.ceil(count/1000))  \n",
    "    # вектор для хранения id пользователей\n",
    "    members = []     \n",
    "    \n",
    "    for i in tqdm_notebook(range(n)): \n",
    "        current_members = vkDownload('groups.getMembers','group_id='+group_id+'&offset='+str(1000*i))\n",
    "        members.extend(current_members['response']['items'])\n",
    "        time.sleep(0.4)\n",
    "        \n",
    "    return members"
   ]
  },
  {
   "cell_type": "code",
   "execution_count": 178,
   "metadata": {},
   "outputs": [
    {
     "name": "stderr",
     "output_type": "stream",
     "text": [
      "C:\\Users\\HP\\AppData\\Local\\Temp\\ipykernel_28332\\1341403498.py:19: TqdmDeprecationWarning: This function will be removed in tqdm==5.0.0\n",
      "Please use `tqdm.notebook.tqdm` instead of `tqdm.tqdm_notebook`\n",
      "  for i in tqdm_notebook(range(n)):\n"
     ]
    },
    {
     "data": {
      "application/vnd.jupyter.widget-view+json": {
       "model_id": "121df8b8f6b34c09bcdff414815cf376",
       "version_major": 2,
       "version_minor": 0
      },
      "text/plain": [
       "  0%|          | 0/41 [00:00<?, ?it/s]"
      ]
     },
     "metadata": {},
     "output_type": "display_data"
    }
   ],
   "source": [
    "# Выгружаю Id для группы по Destiny 2\n",
    "Destiny_members = getGroupMembers(game_groups['Дестени'])"
   ]
  },
  {
   "cell_type": "code",
   "execution_count": 206,
   "metadata": {},
   "outputs": [
    {
     "name": "stderr",
     "output_type": "stream",
     "text": [
      "C:\\Users\\HP\\AppData\\Local\\Temp\\ipykernel_28332\\1341403498.py:19: TqdmDeprecationWarning: This function will be removed in tqdm==5.0.0\n",
      "Please use `tqdm.notebook.tqdm` instead of `tqdm.tqdm_notebook`\n",
      "  for i in tqdm_notebook(range(n)):\n"
     ]
    },
    {
     "data": {
      "application/vnd.jupyter.widget-view+json": {
       "model_id": "62815f1825164bf2b9a23f4a0e9f94f2",
       "version_major": 2,
       "version_minor": 0
      },
      "text/plain": [
       "  0%|          | 0/54 [00:00<?, ?it/s]"
      ]
     },
     "metadata": {},
     "output_type": "display_data"
    }
   ],
   "source": [
    "# Выгружаю Id для группы по Tarkov Arena (почему-то тег официальной группы по просто \"Esacpe from Tarkov\" не работал, выдавалась ошибка в response)\n",
    "tarkov_members = getGroupMembers(game_groups['Тарков'])"
   ]
  },
  {
   "cell_type": "code",
   "execution_count": 210,
   "metadata": {},
   "outputs": [
    {
     "name": "stderr",
     "output_type": "stream",
     "text": [
      "C:\\Users\\HP\\AppData\\Local\\Temp\\ipykernel_28332\\1341403498.py:19: TqdmDeprecationWarning: This function will be removed in tqdm==5.0.0\n",
      "Please use `tqdm.notebook.tqdm` instead of `tqdm.tqdm_notebook`\n",
      "  for i in tqdm_notebook(range(n)):\n"
     ]
    },
    {
     "data": {
      "application/vnd.jupyter.widget-view+json": {
       "model_id": "72e0ad09daa942daa22b88e336d8a680",
       "version_major": 2,
       "version_minor": 0
      },
      "text/plain": [
       "  0%|          | 0/666 [00:00<?, ?it/s]"
      ]
     },
     "metadata": {},
     "output_type": "display_data"
    }
   ],
   "source": [
    "# Выгружаю Id для группы по Brawl Stars\n",
    "brawlstars_members = getGroupMembers(game_groups['Бравлстарс'])"
   ]
  },
  {
   "cell_type": "code",
   "execution_count": 194,
   "metadata": {},
   "outputs": [
    {
     "data": {
      "text/plain": [
       "40617"
      ]
     },
     "execution_count": 194,
     "metadata": {},
     "output_type": "execute_result"
    }
   ],
   "source": [
    "# Проверяю количество выгруженных ID для 1 паблика\n",
    "len(Destiny_members)"
   ]
  },
  {
   "cell_type": "code",
   "execution_count": 208,
   "metadata": {},
   "outputs": [
    {
     "data": {
      "text/plain": [
       "53883"
      ]
     },
     "execution_count": 208,
     "metadata": {},
     "output_type": "execute_result"
    }
   ],
   "source": [
    "# Проверяю количество выгруженных ID для 2 паблика\n",
    "len(tarkov_members)"
   ]
  },
  {
   "cell_type": "code",
   "execution_count": 211,
   "metadata": {},
   "outputs": [
    {
     "data": {
      "text/plain": [
       "665204"
      ]
     },
     "execution_count": 211,
     "metadata": {},
     "output_type": "execute_result"
    }
   ],
   "source": [
    "# Проверяю количество выгруженных ID для 3 паблика\n",
    "len(brawlstars_members)"
   ]
  },
  {
   "cell_type": "markdown",
   "metadata": {},
   "source": [
    "<font color=purple> Все работает, теперь можно сделать цикл и поместить ID подписчиков всех 3 групп в один словарь"
   ]
  },
  {
   "cell_type": "markdown",
   "metadata": {},
   "source": [
    "# Выгрузка данных с 3 групп"
   ]
  },
  {
   "cell_type": "code",
   "execution_count": 269,
   "metadata": {},
   "outputs": [
    {
     "name": "stderr",
     "output_type": "stream",
     "text": [
      "C:\\Users\\HP\\AppData\\Local\\Temp\\ipykernel_28332\\1341403498.py:19: TqdmDeprecationWarning: This function will be removed in tqdm==5.0.0\n",
      "Please use `tqdm.notebook.tqdm` instead of `tqdm.tqdm_notebook`\n",
      "  for i in tqdm_notebook(range(n)):\n"
     ]
    },
    {
     "data": {
      "application/vnd.jupyter.widget-view+json": {
       "model_id": "fc116b5800ba45908d5c1318397cb121",
       "version_major": 2,
       "version_minor": 0
      },
      "text/plain": [
       "  0%|          | 0/54 [00:00<?, ?it/s]"
      ]
     },
     "metadata": {},
     "output_type": "display_data"
    },
    {
     "data": {
      "application/vnd.jupyter.widget-view+json": {
       "model_id": "6c36703d193140ccb52339cca50120b7",
       "version_major": 2,
       "version_minor": 0
      },
      "text/plain": [
       "  0%|          | 0/41 [00:00<?, ?it/s]"
      ]
     },
     "metadata": {},
     "output_type": "display_data"
    },
    {
     "data": {
      "application/vnd.jupyter.widget-view+json": {
       "model_id": "66a4d7e4538a459d916be8a82cb51979",
       "version_major": 2,
       "version_minor": 0
      },
      "text/plain": [
       "  0%|          | 0/666 [00:00<?, ?it/s]"
      ]
     },
     "metadata": {},
     "output_type": "display_data"
    }
   ],
   "source": [
    "# Цикл для выгрузки всех участников групп\n",
    "# Выкачиваею членов каждой группы \n",
    "\n",
    "game_susbs = {}\n",
    "for game, group_id in game_groups.items():\n",
    "    game_susbs[game] = getGroupMembers(group_id)\n"
   ]
  },
  {
   "cell_type": "code",
   "execution_count": 270,
   "metadata": {},
   "outputs": [
    {
     "name": "stdout",
     "output_type": "stream",
     "text": [
      "Игровой паблик: Тарков, число подписчиков: 53883\n",
      "Игровой паблик: Дестени, число подписчиков: 40616\n",
      "Игровой паблик: Бравлстарс, число подписчиков: 665203\n"
     ]
    }
   ],
   "source": [
    "# Проверяю количество выгруженных ID для всех трех пабликов\n",
    "for game, people in game_susbs.items():\n",
    "    print(\"Игровой паблик: {}, число подписчиков: {}\".format(game, len(people)))"
   ]
  },
  {
   "cell_type": "code",
   "execution_count": 271,
   "metadata": {},
   "outputs": [],
   "source": [
    "# Прописываю параметры в соответствии справочником API для VK. Также, на всякий случай, указываю ID каждой из групп. \n",
    "fields = 'bdate, country, city, sex, education'\n",
    "grp1_id = '-89771130'\n",
    "grp2_id = '-167609719'\n",
    "grp3_id = '-138011123'"
   ]
  },
  {
   "cell_type": "code",
   "execution_count": 277,
   "metadata": {},
   "outputs": [],
   "source": [
    "# Функция для подгрузки социально-демографических данных по подписчикам групп в один словарь.\n",
    "\n",
    "def getUserInformation():\n",
    "    \n",
    "    # инициализируем пустой словарь, где будут хранитсья пользователи с их соцдемом\n",
    "    subs_information = {}\n",
    "    # проходимся по всем кандидатам\n",
    "    for game, people in game_susbs.items():\n",
    "        # текущий список пользователей с соц-демом\n",
    "        current_info = []\n",
    "        \n",
    "        # В range указываю ограничение в 10, чтобы не скачивать информацию по сотням тысяч пользователей, а ограничиться выборкой в 15 000\n",
    "        for i in tqdm_notebook(range(10)):\n",
    "            # берем текущий срез подписчиков\n",
    "            ids = people[i*500:(i+1)*500]\n",
    "            ids = ','.join([str(user) for user in ids])\n",
    "            # выгружаем их и берем данные\n",
    "            info = vkDownload('users.get','user_ids={}&fields={}'.format(ids, fields))\n",
    "            info = info['response']\n",
    "            # записываем в текущий лист\n",
    "            current_info.extend(info)\n",
    "            # ждем перед следующим запросом\n",
    "            time.sleep(0.4)\n",
    "        \n",
    "        # записываем в финальный словарь\n",
    "        subs_information[game] = current_info\n",
    "    \n",
    "    return subs_information"
   ]
  },
  {
   "cell_type": "code",
   "execution_count": 278,
   "metadata": {},
   "outputs": [
    {
     "name": "stderr",
     "output_type": "stream",
     "text": [
      "C:\\Users\\HP\\AppData\\Local\\Temp\\ipykernel_28332\\1716350400.py:14: TqdmDeprecationWarning: This function will be removed in tqdm==5.0.0\n",
      "Please use `tqdm.notebook.tqdm` instead of `tqdm.tqdm_notebook`\n",
      "  for i in tqdm_notebook(range(10)):\n"
     ]
    },
    {
     "data": {
      "application/vnd.jupyter.widget-view+json": {
       "model_id": "94de7e5ffffb4b978c60bfd37422cc0f",
       "version_major": 2,
       "version_minor": 0
      },
      "text/plain": [
       "  0%|          | 0/10 [00:00<?, ?it/s]"
      ]
     },
     "metadata": {},
     "output_type": "display_data"
    },
    {
     "data": {
      "application/vnd.jupyter.widget-view+json": {
       "model_id": "e4753fbbdc0c431db55295d757d19e34",
       "version_major": 2,
       "version_minor": 0
      },
      "text/plain": [
       "  0%|          | 0/10 [00:00<?, ?it/s]"
      ]
     },
     "metadata": {},
     "output_type": "display_data"
    },
    {
     "data": {
      "application/vnd.jupyter.widget-view+json": {
       "model_id": "c7f17d1eed2244eb962d099779c1ccdd",
       "version_major": 2,
       "version_minor": 0
      },
      "text/plain": [
       "  0%|          | 0/10 [00:00<?, ?it/s]"
      ]
     },
     "metadata": {},
     "output_type": "display_data"
    }
   ],
   "source": [
    "# Инициирую выгрузку\n",
    "subs_information = getUserInformation()"
   ]
  },
  {
   "cell_type": "code",
   "execution_count": 288,
   "metadata": {},
   "outputs": [
    {
     "name": "stderr",
     "output_type": "stream",
     "text": [
      "C:\\Users\\HP\\AppData\\Local\\Temp\\ipykernel_28332\\2377014620.py:12: FutureWarning: The frame.append method is deprecated and will be removed from pandas in a future version. Use pandas.concat instead.\n",
      "  subs_df = subs_df.append(df, ignore_index=True)\n",
      "C:\\Users\\HP\\AppData\\Local\\Temp\\ipykernel_28332\\2377014620.py:12: FutureWarning: The frame.append method is deprecated and will be removed from pandas in a future version. Use pandas.concat instead.\n",
      "  subs_df = subs_df.append(df, ignore_index=True)\n",
      "C:\\Users\\HP\\AppData\\Local\\Temp\\ipykernel_28332\\2377014620.py:12: FutureWarning: The frame.append method is deprecated and will be removed from pandas in a future version. Use pandas.concat instead.\n",
      "  subs_df = subs_df.append(df, ignore_index=True)\n"
     ]
    }
   ],
   "source": [
    "# Перевожу словарь в датафрейм, для чего сначала создаю пустой датафрейм.\n",
    "subs_df = pd.DataFrame()\n",
    "\n",
    "# цикл по всем игровым пабликам и соц-дему их подписчиков\n",
    "for game, people in subs_information.items():\n",
    "    # преобразую словарь в датафрейм\n",
    "    df = pd.DataFrame(people)\n",
    "    # добавляю столбец с городом\n",
    "    df['city'] = df.city.apply(lambda x: x['title'] if x is not np.nan else np.nan)\n",
    "    # добавляю столбец с названием игры (паблика ВК)\n",
    "    df['game'] = game\n",
    "    # добавляем преобразованный датафрейм к финальному\n",
    "    subs_df = subs_df.append(df, ignore_index=True)"
   ]
  },
  {
   "cell_type": "code",
   "execution_count": 294,
   "metadata": {},
   "outputs": [],
   "source": [
    "# Выкачиваю получившийся датафрейм в таблицу csv, чтобы при перезахде в python не пришлось заново повторять все предыдущие действия.\n",
    "subs_df.to_csv('test_subs_pd.csv', sep=',')"
   ]
  },
  {
   "cell_type": "code",
   "execution_count": 26,
   "metadata": {},
   "outputs": [],
   "source": [
    "# После перезахода обратно загружаю таблицу csv в датафрейм pandas.\n",
    "subs_df = pd.read_csv('test_subs_pd.csv')"
   ]
  },
  {
   "cell_type": "code",
   "execution_count": 18,
   "metadata": {},
   "outputs": [
    {
     "data": {
      "text/html": [
       "<div>\n",
       "<style scoped>\n",
       "    .dataframe tbody tr th:only-of-type {\n",
       "        vertical-align: middle;\n",
       "    }\n",
       "\n",
       "    .dataframe tbody tr th {\n",
       "        vertical-align: top;\n",
       "    }\n",
       "\n",
       "    .dataframe thead th {\n",
       "        text-align: right;\n",
       "    }\n",
       "</style>\n",
       "<table border=\"1\" class=\"dataframe\">\n",
       "  <thead>\n",
       "    <tr style=\"text-align: right;\">\n",
       "      <th></th>\n",
       "      <th>Unnamed: 0</th>\n",
       "      <th>id</th>\n",
       "      <th>bdate</th>\n",
       "      <th>city</th>\n",
       "      <th>country</th>\n",
       "      <th>university</th>\n",
       "      <th>university_name</th>\n",
       "      <th>faculty</th>\n",
       "      <th>faculty_name</th>\n",
       "      <th>graduation</th>\n",
       "      <th>education_form</th>\n",
       "      <th>education_status</th>\n",
       "      <th>sex</th>\n",
       "      <th>first_name</th>\n",
       "      <th>last_name</th>\n",
       "      <th>can_access_closed</th>\n",
       "      <th>is_closed</th>\n",
       "      <th>deactivated</th>\n",
       "      <th>game</th>\n",
       "    </tr>\n",
       "  </thead>\n",
       "  <tbody>\n",
       "    <tr>\n",
       "      <th>0</th>\n",
       "      <td>0</td>\n",
       "      <td>3744</td>\n",
       "      <td>10.5</td>\n",
       "      <td>Санкт-Петербург</td>\n",
       "      <td>{'id': 1, 'title': 'Россия'}</td>\n",
       "      <td>1.0</td>\n",
       "      <td>СПбГУ</td>\n",
       "      <td>7.0</td>\n",
       "      <td>Математико-механический</td>\n",
       "      <td>2012.0</td>\n",
       "      <td>Очное отделение</td>\n",
       "      <td>Выпускник (специалист)</td>\n",
       "      <td>2</td>\n",
       "      <td>Alexander</td>\n",
       "      <td>Ageyev</td>\n",
       "      <td>True</td>\n",
       "      <td>False</td>\n",
       "      <td>NaN</td>\n",
       "      <td>Тарков</td>\n",
       "    </tr>\n",
       "    <tr>\n",
       "      <th>1</th>\n",
       "      <td>1</td>\n",
       "      <td>5217</td>\n",
       "      <td>29.7</td>\n",
       "      <td>Москва</td>\n",
       "      <td>{'id': 1, 'title': 'Россия'}</td>\n",
       "      <td>NaN</td>\n",
       "      <td>NaN</td>\n",
       "      <td>NaN</td>\n",
       "      <td>NaN</td>\n",
       "      <td>NaN</td>\n",
       "      <td>NaN</td>\n",
       "      <td>NaN</td>\n",
       "      <td>2</td>\n",
       "      <td>Никита</td>\n",
       "      <td>Красиков</td>\n",
       "      <td>True</td>\n",
       "      <td>False</td>\n",
       "      <td>NaN</td>\n",
       "      <td>Тарков</td>\n",
       "    </tr>\n",
       "    <tr>\n",
       "      <th>2</th>\n",
       "      <td>2</td>\n",
       "      <td>7241</td>\n",
       "      <td>24.6</td>\n",
       "      <td>Санкт-Петербург</td>\n",
       "      <td>{'id': 1, 'title': 'Россия'}</td>\n",
       "      <td>NaN</td>\n",
       "      <td>NaN</td>\n",
       "      <td>NaN</td>\n",
       "      <td>NaN</td>\n",
       "      <td>NaN</td>\n",
       "      <td>NaN</td>\n",
       "      <td>NaN</td>\n",
       "      <td>2</td>\n",
       "      <td>Денис</td>\n",
       "      <td>Игоревич</td>\n",
       "      <td>False</td>\n",
       "      <td>True</td>\n",
       "      <td>NaN</td>\n",
       "      <td>Тарков</td>\n",
       "    </tr>\n",
       "    <tr>\n",
       "      <th>3</th>\n",
       "      <td>3</td>\n",
       "      <td>8315</td>\n",
       "      <td>19.6</td>\n",
       "      <td>Санкт-Петербург</td>\n",
       "      <td>{'id': 1, 'title': 'Россия'}</td>\n",
       "      <td>NaN</td>\n",
       "      <td>NaN</td>\n",
       "      <td>NaN</td>\n",
       "      <td>NaN</td>\n",
       "      <td>NaN</td>\n",
       "      <td>NaN</td>\n",
       "      <td>NaN</td>\n",
       "      <td>2</td>\n",
       "      <td>Иван</td>\n",
       "      <td>Ли</td>\n",
       "      <td>False</td>\n",
       "      <td>True</td>\n",
       "      <td>NaN</td>\n",
       "      <td>Тарков</td>\n",
       "    </tr>\n",
       "    <tr>\n",
       "      <th>4</th>\n",
       "      <td>4</td>\n",
       "      <td>8404</td>\n",
       "      <td>6.6.1987</td>\n",
       "      <td>Санкт-Петербург</td>\n",
       "      <td>{'id': 1, 'title': 'Россия'}</td>\n",
       "      <td>68.0</td>\n",
       "      <td>СПбГЭТУ «ЛЭТИ»</td>\n",
       "      <td>324.0</td>\n",
       "      <td>Компьютерных технологий и информатики (ФКТИ, Ф...</td>\n",
       "      <td>2008.0</td>\n",
       "      <td>Очное отделение</td>\n",
       "      <td>Выпускник (бакалавр)</td>\n",
       "      <td>2</td>\n",
       "      <td>Александр</td>\n",
       "      <td>Петров</td>\n",
       "      <td>True</td>\n",
       "      <td>False</td>\n",
       "      <td>NaN</td>\n",
       "      <td>Тарков</td>\n",
       "    </tr>\n",
       "    <tr>\n",
       "      <th>...</th>\n",
       "      <td>...</td>\n",
       "      <td>...</td>\n",
       "      <td>...</td>\n",
       "      <td>...</td>\n",
       "      <td>...</td>\n",
       "      <td>...</td>\n",
       "      <td>...</td>\n",
       "      <td>...</td>\n",
       "      <td>...</td>\n",
       "      <td>...</td>\n",
       "      <td>...</td>\n",
       "      <td>...</td>\n",
       "      <td>...</td>\n",
       "      <td>...</td>\n",
       "      <td>...</td>\n",
       "      <td>...</td>\n",
       "      <td>...</td>\n",
       "      <td>...</td>\n",
       "      <td>...</td>\n",
       "    </tr>\n",
       "    <tr>\n",
       "      <th>14995</th>\n",
       "      <td>14995</td>\n",
       "      <td>91226047</td>\n",
       "      <td>6.10.2000</td>\n",
       "      <td>Strasbourg</td>\n",
       "      <td>{'id': 209, 'title': 'Франция'}</td>\n",
       "      <td>NaN</td>\n",
       "      <td>NaN</td>\n",
       "      <td>NaN</td>\n",
       "      <td>NaN</td>\n",
       "      <td>NaN</td>\n",
       "      <td>NaN</td>\n",
       "      <td>NaN</td>\n",
       "      <td>2</td>\n",
       "      <td>Тамерлан</td>\n",
       "      <td>Калимуллин</td>\n",
       "      <td>True</td>\n",
       "      <td>False</td>\n",
       "      <td>NaN</td>\n",
       "      <td>Бравлстарс</td>\n",
       "    </tr>\n",
       "    <tr>\n",
       "      <th>14996</th>\n",
       "      <td>14996</td>\n",
       "      <td>91244863</td>\n",
       "      <td>6.11</td>\n",
       "      <td>NaN</td>\n",
       "      <td>{'id': 1, 'title': 'Россия'}</td>\n",
       "      <td>92.0</td>\n",
       "      <td>РАНХиГС при Президенте РФ (бывш. АНХ при Прави...</td>\n",
       "      <td>2124890.0</td>\n",
       "      <td>Институт менеджмента и маркетинга</td>\n",
       "      <td>0.0</td>\n",
       "      <td>NaN</td>\n",
       "      <td>NaN</td>\n",
       "      <td>2</td>\n",
       "      <td>Карим</td>\n",
       "      <td>Масков</td>\n",
       "      <td>True</td>\n",
       "      <td>False</td>\n",
       "      <td>NaN</td>\n",
       "      <td>Бравлстарс</td>\n",
       "    </tr>\n",
       "    <tr>\n",
       "      <th>14997</th>\n",
       "      <td>14997</td>\n",
       "      <td>91247242</td>\n",
       "      <td>21.9.1989</td>\n",
       "      <td>Минск</td>\n",
       "      <td>{'id': 3, 'title': 'Беларусь'}</td>\n",
       "      <td>NaN</td>\n",
       "      <td>NaN</td>\n",
       "      <td>NaN</td>\n",
       "      <td>NaN</td>\n",
       "      <td>NaN</td>\n",
       "      <td>NaN</td>\n",
       "      <td>NaN</td>\n",
       "      <td>2</td>\n",
       "      <td>Алексей</td>\n",
       "      <td>Muchkin</td>\n",
       "      <td>True</td>\n",
       "      <td>False</td>\n",
       "      <td>NaN</td>\n",
       "      <td>Бравлстарс</td>\n",
       "    </tr>\n",
       "    <tr>\n",
       "      <th>14998</th>\n",
       "      <td>14998</td>\n",
       "      <td>91257531</td>\n",
       "      <td>10.1</td>\n",
       "      <td>NaN</td>\n",
       "      <td>{'id': 1, 'title': 'Россия'}</td>\n",
       "      <td>NaN</td>\n",
       "      <td>NaN</td>\n",
       "      <td>NaN</td>\n",
       "      <td>NaN</td>\n",
       "      <td>NaN</td>\n",
       "      <td>NaN</td>\n",
       "      <td>NaN</td>\n",
       "      <td>1</td>\n",
       "      <td>Ян</td>\n",
       "      <td>Кантимиров</td>\n",
       "      <td>True</td>\n",
       "      <td>False</td>\n",
       "      <td>NaN</td>\n",
       "      <td>Бравлстарс</td>\n",
       "    </tr>\n",
       "    <tr>\n",
       "      <th>14999</th>\n",
       "      <td>14999</td>\n",
       "      <td>91273620</td>\n",
       "      <td>17.8</td>\n",
       "      <td>NaN</td>\n",
       "      <td>{'id': 1, 'title': 'Россия'}</td>\n",
       "      <td>NaN</td>\n",
       "      <td>NaN</td>\n",
       "      <td>NaN</td>\n",
       "      <td>NaN</td>\n",
       "      <td>NaN</td>\n",
       "      <td>NaN</td>\n",
       "      <td>NaN</td>\n",
       "      <td>2</td>\n",
       "      <td>Павел</td>\n",
       "      <td>Некрасов</td>\n",
       "      <td>False</td>\n",
       "      <td>True</td>\n",
       "      <td>NaN</td>\n",
       "      <td>Бравлстарс</td>\n",
       "    </tr>\n",
       "  </tbody>\n",
       "</table>\n",
       "<p>15000 rows × 19 columns</p>\n",
       "</div>"
      ],
      "text/plain": [
       "       Unnamed: 0        id      bdate             city  \\\n",
       "0               0      3744       10.5  Санкт-Петербург   \n",
       "1               1      5217       29.7           Москва   \n",
       "2               2      7241       24.6  Санкт-Петербург   \n",
       "3               3      8315       19.6  Санкт-Петербург   \n",
       "4               4      8404   6.6.1987  Санкт-Петербург   \n",
       "...           ...       ...        ...              ...   \n",
       "14995       14995  91226047  6.10.2000       Strasbourg   \n",
       "14996       14996  91244863       6.11              NaN   \n",
       "14997       14997  91247242  21.9.1989            Минск   \n",
       "14998       14998  91257531       10.1              NaN   \n",
       "14999       14999  91273620       17.8              NaN   \n",
       "\n",
       "                               country  university  \\\n",
       "0         {'id': 1, 'title': 'Россия'}         1.0   \n",
       "1         {'id': 1, 'title': 'Россия'}         NaN   \n",
       "2         {'id': 1, 'title': 'Россия'}         NaN   \n",
       "3         {'id': 1, 'title': 'Россия'}         NaN   \n",
       "4         {'id': 1, 'title': 'Россия'}        68.0   \n",
       "...                                ...         ...   \n",
       "14995  {'id': 209, 'title': 'Франция'}         NaN   \n",
       "14996     {'id': 1, 'title': 'Россия'}        92.0   \n",
       "14997   {'id': 3, 'title': 'Беларусь'}         NaN   \n",
       "14998     {'id': 1, 'title': 'Россия'}         NaN   \n",
       "14999     {'id': 1, 'title': 'Россия'}         NaN   \n",
       "\n",
       "                                         university_name    faculty  \\\n",
       "0                                                  СПбГУ        7.0   \n",
       "1                                                    NaN        NaN   \n",
       "2                                                    NaN        NaN   \n",
       "3                                                    NaN        NaN   \n",
       "4                                         СПбГЭТУ «ЛЭТИ»      324.0   \n",
       "...                                                  ...        ...   \n",
       "14995                                                NaN        NaN   \n",
       "14996  РАНХиГС при Президенте РФ (бывш. АНХ при Прави...  2124890.0   \n",
       "14997                                                NaN        NaN   \n",
       "14998                                                NaN        NaN   \n",
       "14999                                                NaN        NaN   \n",
       "\n",
       "                                            faculty_name  graduation  \\\n",
       "0                                Математико-механический      2012.0   \n",
       "1                                                    NaN         NaN   \n",
       "2                                                    NaN         NaN   \n",
       "3                                                    NaN         NaN   \n",
       "4      Компьютерных технологий и информатики (ФКТИ, Ф...      2008.0   \n",
       "...                                                  ...         ...   \n",
       "14995                                                NaN         NaN   \n",
       "14996                  Институт менеджмента и маркетинга         0.0   \n",
       "14997                                                NaN         NaN   \n",
       "14998                                                NaN         NaN   \n",
       "14999                                                NaN         NaN   \n",
       "\n",
       "        education_form        education_status  sex first_name   last_name  \\\n",
       "0      Очное отделение  Выпускник (специалист)    2  Alexander      Ageyev   \n",
       "1                  NaN                     NaN    2     Никита    Красиков   \n",
       "2                  NaN                     NaN    2      Денис    Игоревич   \n",
       "3                  NaN                     NaN    2       Иван          Ли   \n",
       "4      Очное отделение    Выпускник (бакалавр)    2  Александр      Петров   \n",
       "...                ...                     ...  ...        ...         ...   \n",
       "14995              NaN                     NaN    2   Тамерлан  Калимуллин   \n",
       "14996              NaN                     NaN    2      Карим      Масков   \n",
       "14997              NaN                     NaN    2    Алексей     Muchkin   \n",
       "14998              NaN                     NaN    1         Ян  Кантимиров   \n",
       "14999              NaN                     NaN    2      Павел    Некрасов   \n",
       "\n",
       "       can_access_closed  is_closed deactivated        game  \n",
       "0                   True      False         NaN      Тарков  \n",
       "1                   True      False         NaN      Тарков  \n",
       "2                  False       True         NaN      Тарков  \n",
       "3                  False       True         NaN      Тарков  \n",
       "4                   True      False         NaN      Тарков  \n",
       "...                  ...        ...         ...         ...  \n",
       "14995               True      False         NaN  Бравлстарс  \n",
       "14996               True      False         NaN  Бравлстарс  \n",
       "14997               True      False         NaN  Бравлстарс  \n",
       "14998               True      False         NaN  Бравлстарс  \n",
       "14999              False       True         NaN  Бравлстарс  \n",
       "\n",
       "[15000 rows x 19 columns]"
      ]
     },
     "execution_count": 18,
     "metadata": {},
     "output_type": "execute_result"
    }
   ],
   "source": [
    "# Проверяю, что все отображается корректно.\n",
    "subs_df"
   ]
  },
  {
   "cell_type": "markdown",
   "metadata": {},
   "source": [
    "# Обработка и чистка датафрейма"
   ]
  },
  {
   "cell_type": "markdown",
   "metadata": {},
   "source": [
    "<font color=purple> В датафрейме получилось слишком много столбцов, и многие из них не содержат ценной инормации. \n",
    "Так, например, \"can_access_closed\" и \"is_closed\" по факту обозначают одно и тоже, просто обратными значениямм.\n",
    "Столбцы, полученные из field==education кажутся во многом слишком подробными, поэтому можно ограничится только названием университета.\n",
    "\"Столбец Unnamed: 0\" дублирует индексирование, что тоже мне не кажется необходимым."
   ]
  },
  {
   "cell_type": "code",
   "execution_count": 28,
   "metadata": {},
   "outputs": [],
   "source": [
    "# Удаляю лишние столбцы по их индексам\n",
    "subs_df = subs_df.drop(subs_df.columns[[0,5,7,8,9,10,11,15]], axis= 1)"
   ]
  },
  {
   "cell_type": "code",
   "execution_count": 81,
   "metadata": {},
   "outputs": [
    {
     "data": {
      "text/html": [
       "<div>\n",
       "<style scoped>\n",
       "    .dataframe tbody tr th:only-of-type {\n",
       "        vertical-align: middle;\n",
       "    }\n",
       "\n",
       "    .dataframe tbody tr th {\n",
       "        vertical-align: top;\n",
       "    }\n",
       "\n",
       "    .dataframe thead th {\n",
       "        text-align: right;\n",
       "    }\n",
       "</style>\n",
       "<table border=\"1\" class=\"dataframe\">\n",
       "  <thead>\n",
       "    <tr style=\"text-align: right;\">\n",
       "      <th></th>\n",
       "      <th>id</th>\n",
       "      <th>bdate</th>\n",
       "      <th>city</th>\n",
       "      <th>country</th>\n",
       "      <th>university_name</th>\n",
       "      <th>sex</th>\n",
       "      <th>first_name</th>\n",
       "      <th>last_name</th>\n",
       "      <th>is_closed</th>\n",
       "      <th>deactivated</th>\n",
       "      <th>game</th>\n",
       "    </tr>\n",
       "  </thead>\n",
       "  <tbody>\n",
       "    <tr>\n",
       "      <th>0</th>\n",
       "      <td>3744</td>\n",
       "      <td>10.5</td>\n",
       "      <td>Санкт-Петербург</td>\n",
       "      <td>{'id': 1, 'title': 'Россия'}</td>\n",
       "      <td>СПбГУ</td>\n",
       "      <td>2</td>\n",
       "      <td>Alexander</td>\n",
       "      <td>Ageyev</td>\n",
       "      <td>False</td>\n",
       "      <td>NaN</td>\n",
       "      <td>Тарков</td>\n",
       "    </tr>\n",
       "    <tr>\n",
       "      <th>1</th>\n",
       "      <td>5217</td>\n",
       "      <td>29.7</td>\n",
       "      <td>Москва</td>\n",
       "      <td>{'id': 1, 'title': 'Россия'}</td>\n",
       "      <td>NaN</td>\n",
       "      <td>2</td>\n",
       "      <td>Никита</td>\n",
       "      <td>Красиков</td>\n",
       "      <td>False</td>\n",
       "      <td>NaN</td>\n",
       "      <td>Тарков</td>\n",
       "    </tr>\n",
       "    <tr>\n",
       "      <th>2</th>\n",
       "      <td>7241</td>\n",
       "      <td>24.6</td>\n",
       "      <td>Санкт-Петербург</td>\n",
       "      <td>{'id': 1, 'title': 'Россия'}</td>\n",
       "      <td>NaN</td>\n",
       "      <td>2</td>\n",
       "      <td>Денис</td>\n",
       "      <td>Игоревич</td>\n",
       "      <td>True</td>\n",
       "      <td>NaN</td>\n",
       "      <td>Тарков</td>\n",
       "    </tr>\n",
       "    <tr>\n",
       "      <th>3</th>\n",
       "      <td>8315</td>\n",
       "      <td>19.6</td>\n",
       "      <td>Санкт-Петербург</td>\n",
       "      <td>{'id': 1, 'title': 'Россия'}</td>\n",
       "      <td>NaN</td>\n",
       "      <td>2</td>\n",
       "      <td>Иван</td>\n",
       "      <td>Ли</td>\n",
       "      <td>True</td>\n",
       "      <td>NaN</td>\n",
       "      <td>Тарков</td>\n",
       "    </tr>\n",
       "    <tr>\n",
       "      <th>4</th>\n",
       "      <td>8404</td>\n",
       "      <td>6.6.1987</td>\n",
       "      <td>Санкт-Петербург</td>\n",
       "      <td>{'id': 1, 'title': 'Россия'}</td>\n",
       "      <td>СПбГЭТУ «ЛЭТИ»</td>\n",
       "      <td>2</td>\n",
       "      <td>Александр</td>\n",
       "      <td>Петров</td>\n",
       "      <td>False</td>\n",
       "      <td>NaN</td>\n",
       "      <td>Тарков</td>\n",
       "    </tr>\n",
       "    <tr>\n",
       "      <th>...</th>\n",
       "      <td>...</td>\n",
       "      <td>...</td>\n",
       "      <td>...</td>\n",
       "      <td>...</td>\n",
       "      <td>...</td>\n",
       "      <td>...</td>\n",
       "      <td>...</td>\n",
       "      <td>...</td>\n",
       "      <td>...</td>\n",
       "      <td>...</td>\n",
       "      <td>...</td>\n",
       "    </tr>\n",
       "    <tr>\n",
       "      <th>14995</th>\n",
       "      <td>91226047</td>\n",
       "      <td>6.10.2000</td>\n",
       "      <td>Strasbourg</td>\n",
       "      <td>{'id': 209, 'title': 'Франция'}</td>\n",
       "      <td>NaN</td>\n",
       "      <td>2</td>\n",
       "      <td>Тамерлан</td>\n",
       "      <td>Калимуллин</td>\n",
       "      <td>False</td>\n",
       "      <td>NaN</td>\n",
       "      <td>Бравлстарс</td>\n",
       "    </tr>\n",
       "    <tr>\n",
       "      <th>14996</th>\n",
       "      <td>91244863</td>\n",
       "      <td>6.11</td>\n",
       "      <td>NaN</td>\n",
       "      <td>{'id': 1, 'title': 'Россия'}</td>\n",
       "      <td>РАНХиГС при Президенте РФ (бывш. АНХ при Прави...</td>\n",
       "      <td>2</td>\n",
       "      <td>Карим</td>\n",
       "      <td>Масков</td>\n",
       "      <td>False</td>\n",
       "      <td>NaN</td>\n",
       "      <td>Бравлстарс</td>\n",
       "    </tr>\n",
       "    <tr>\n",
       "      <th>14997</th>\n",
       "      <td>91247242</td>\n",
       "      <td>21.9.1989</td>\n",
       "      <td>Минск</td>\n",
       "      <td>{'id': 3, 'title': 'Беларусь'}</td>\n",
       "      <td>NaN</td>\n",
       "      <td>2</td>\n",
       "      <td>Алексей</td>\n",
       "      <td>Muchkin</td>\n",
       "      <td>False</td>\n",
       "      <td>NaN</td>\n",
       "      <td>Бравлстарс</td>\n",
       "    </tr>\n",
       "    <tr>\n",
       "      <th>14998</th>\n",
       "      <td>91257531</td>\n",
       "      <td>10.1</td>\n",
       "      <td>NaN</td>\n",
       "      <td>{'id': 1, 'title': 'Россия'}</td>\n",
       "      <td>NaN</td>\n",
       "      <td>1</td>\n",
       "      <td>Ян</td>\n",
       "      <td>Кантимиров</td>\n",
       "      <td>False</td>\n",
       "      <td>NaN</td>\n",
       "      <td>Бравлстарс</td>\n",
       "    </tr>\n",
       "    <tr>\n",
       "      <th>14999</th>\n",
       "      <td>91273620</td>\n",
       "      <td>17.8</td>\n",
       "      <td>NaN</td>\n",
       "      <td>{'id': 1, 'title': 'Россия'}</td>\n",
       "      <td>NaN</td>\n",
       "      <td>2</td>\n",
       "      <td>Павел</td>\n",
       "      <td>Некрасов</td>\n",
       "      <td>True</td>\n",
       "      <td>NaN</td>\n",
       "      <td>Бравлстарс</td>\n",
       "    </tr>\n",
       "  </tbody>\n",
       "</table>\n",
       "<p>15000 rows × 11 columns</p>\n",
       "</div>"
      ],
      "text/plain": [
       "             id      bdate             city                          country  \\\n",
       "0          3744       10.5  Санкт-Петербург     {'id': 1, 'title': 'Россия'}   \n",
       "1          5217       29.7           Москва     {'id': 1, 'title': 'Россия'}   \n",
       "2          7241       24.6  Санкт-Петербург     {'id': 1, 'title': 'Россия'}   \n",
       "3          8315       19.6  Санкт-Петербург     {'id': 1, 'title': 'Россия'}   \n",
       "4          8404   6.6.1987  Санкт-Петербург     {'id': 1, 'title': 'Россия'}   \n",
       "...         ...        ...              ...                              ...   \n",
       "14995  91226047  6.10.2000       Strasbourg  {'id': 209, 'title': 'Франция'}   \n",
       "14996  91244863       6.11              NaN     {'id': 1, 'title': 'Россия'}   \n",
       "14997  91247242  21.9.1989            Минск   {'id': 3, 'title': 'Беларусь'}   \n",
       "14998  91257531       10.1              NaN     {'id': 1, 'title': 'Россия'}   \n",
       "14999  91273620       17.8              NaN     {'id': 1, 'title': 'Россия'}   \n",
       "\n",
       "                                         university_name  sex first_name  \\\n",
       "0                                                  СПбГУ    2  Alexander   \n",
       "1                                                    NaN    2     Никита   \n",
       "2                                                    NaN    2      Денис   \n",
       "3                                                    NaN    2       Иван   \n",
       "4                                         СПбГЭТУ «ЛЭТИ»    2  Александр   \n",
       "...                                                  ...  ...        ...   \n",
       "14995                                                NaN    2   Тамерлан   \n",
       "14996  РАНХиГС при Президенте РФ (бывш. АНХ при Прави...    2      Карим   \n",
       "14997                                                NaN    2    Алексей   \n",
       "14998                                                NaN    1         Ян   \n",
       "14999                                                NaN    2      Павел   \n",
       "\n",
       "        last_name  is_closed deactivated        game  \n",
       "0          Ageyev      False         NaN      Тарков  \n",
       "1        Красиков      False         NaN      Тарков  \n",
       "2        Игоревич       True         NaN      Тарков  \n",
       "3              Ли       True         NaN      Тарков  \n",
       "4          Петров      False         NaN      Тарков  \n",
       "...           ...        ...         ...         ...  \n",
       "14995  Калимуллин      False         NaN  Бравлстарс  \n",
       "14996      Масков      False         NaN  Бравлстарс  \n",
       "14997     Muchkin      False         NaN  Бравлстарс  \n",
       "14998  Кантимиров      False         NaN  Бравлстарс  \n",
       "14999    Некрасов       True         NaN  Бравлстарс  \n",
       "\n",
       "[15000 rows x 11 columns]"
      ]
     },
     "execution_count": 81,
     "metadata": {},
     "output_type": "execute_result"
    }
   ],
   "source": [
    "# Для упрощения навигации перезаписываю датафрейм с удаленными столбцами в другой.\n",
    "subsd_df = subs_df\n",
    "subsd_df"
   ]
  },
  {
   "cell_type": "markdown",
   "metadata": {},
   "source": [
    "## Удаление пустых значений по столбцам"
   ]
  },
  {
   "cell_type": "markdown",
   "metadata": {},
   "source": [
    "### ID"
   ]
  },
  {
   "cell_type": "code",
   "execution_count": 82,
   "metadata": {},
   "outputs": [
    {
     "data": {
      "text/plain": [
       "14909"
      ]
     },
     "execution_count": 82,
     "metadata": {},
     "output_type": "execute_result"
    }
   ],
   "source": [
    "# Проверяю наличие дубликватов по id, которое могло получится при выгрузке данных\n",
    "subsd_df['id'].nunique()\n",
    "# Получаю 91 повторяющиеся значения, но, перед удалением, проверю из-за чего они возникли. "
   ]
  },
  {
   "cell_type": "code",
   "execution_count": 83,
   "metadata": {},
   "outputs": [
    {
     "data": {
      "text/plain": [
       "15862638    3\n",
       "28597822    2\n",
       "13456986    2\n",
       "33479267    2\n",
       "2207470     2\n",
       "           ..\n",
       "75773       1\n",
       "84796       1\n",
       "87445       1\n",
       "88435       1\n",
       "91273620    1\n",
       "Name: id, Length: 14909, dtype: int64"
      ]
     },
     "execution_count": 83,
     "metadata": {},
     "output_type": "execute_result"
    }
   ],
   "source": [
    "# Нахожу конкретне повторяющиеся id \n",
    "subsd_df['id'].value_counts()"
   ]
  },
  {
   "cell_type": "code",
   "execution_count": 84,
   "metadata": {},
   "outputs": [
    {
     "data": {
      "text/html": [
       "<div>\n",
       "<style scoped>\n",
       "    .dataframe tbody tr th:only-of-type {\n",
       "        vertical-align: middle;\n",
       "    }\n",
       "\n",
       "    .dataframe tbody tr th {\n",
       "        vertical-align: top;\n",
       "    }\n",
       "\n",
       "    .dataframe thead th {\n",
       "        text-align: right;\n",
       "    }\n",
       "</style>\n",
       "<table border=\"1\" class=\"dataframe\">\n",
       "  <thead>\n",
       "    <tr style=\"text-align: right;\">\n",
       "      <th></th>\n",
       "      <th>id</th>\n",
       "      <th>bdate</th>\n",
       "      <th>city</th>\n",
       "      <th>country</th>\n",
       "      <th>university_name</th>\n",
       "      <th>sex</th>\n",
       "      <th>first_name</th>\n",
       "      <th>last_name</th>\n",
       "      <th>is_closed</th>\n",
       "      <th>deactivated</th>\n",
       "      <th>game</th>\n",
       "    </tr>\n",
       "  </thead>\n",
       "  <tbody>\n",
       "    <tr>\n",
       "      <th>2679</th>\n",
       "      <td>15862638</td>\n",
       "      <td>12.6</td>\n",
       "      <td>Волгоград</td>\n",
       "      <td>{'id': 1, 'title': 'Россия'}</td>\n",
       "      <td>NaN</td>\n",
       "      <td>1</td>\n",
       "      <td>Вероника</td>\n",
       "      <td>Трушковская</td>\n",
       "      <td>True</td>\n",
       "      <td>NaN</td>\n",
       "      <td>Тарков</td>\n",
       "    </tr>\n",
       "    <tr>\n",
       "      <th>7543</th>\n",
       "      <td>15862638</td>\n",
       "      <td>12.6</td>\n",
       "      <td>Волгоград</td>\n",
       "      <td>{'id': 1, 'title': 'Россия'}</td>\n",
       "      <td>NaN</td>\n",
       "      <td>1</td>\n",
       "      <td>Вероника</td>\n",
       "      <td>Трушковская</td>\n",
       "      <td>True</td>\n",
       "      <td>NaN</td>\n",
       "      <td>Дестени</td>\n",
       "    </tr>\n",
       "    <tr>\n",
       "      <th>11385</th>\n",
       "      <td>15862638</td>\n",
       "      <td>12.6</td>\n",
       "      <td>Волгоград</td>\n",
       "      <td>{'id': 1, 'title': 'Россия'}</td>\n",
       "      <td>NaN</td>\n",
       "      <td>1</td>\n",
       "      <td>Вероника</td>\n",
       "      <td>Трушковская</td>\n",
       "      <td>True</td>\n",
       "      <td>NaN</td>\n",
       "      <td>Бравлстарс</td>\n",
       "    </tr>\n",
       "  </tbody>\n",
       "</table>\n",
       "</div>"
      ],
      "text/plain": [
       "             id bdate       city                       country  \\\n",
       "2679   15862638  12.6  Волгоград  {'id': 1, 'title': 'Россия'}   \n",
       "7543   15862638  12.6  Волгоград  {'id': 1, 'title': 'Россия'}   \n",
       "11385  15862638  12.6  Волгоград  {'id': 1, 'title': 'Россия'}   \n",
       "\n",
       "      university_name  sex first_name    last_name  is_closed deactivated  \\\n",
       "2679              NaN    1   Вероника  Трушковская       True         NaN   \n",
       "7543              NaN    1   Вероника  Трушковская       True         NaN   \n",
       "11385             NaN    1   Вероника  Трушковская       True         NaN   \n",
       "\n",
       "             game  \n",
       "2679       Тарков  \n",
       "7543      Дестени  \n",
       "11385  Бравлстарс  "
      ]
     },
     "execution_count": 84,
     "metadata": {},
     "output_type": "execute_result"
    }
   ],
   "source": [
    "# Смотрю на содержание этих id\n",
    "subsd_df[subsd_df['id']==15862638]"
   ]
  },
  {
   "cell_type": "markdown",
   "metadata": {},
   "source": [
    "<font color='purple'> Получается, что повторяющиеся значения - это просто те пользователи, которые зарегистрированны в нескольких исслдеуемых мною группах.\n",
    "Хоть и игры достаточно сильно отличаются друг от друга по тематической направленности, я не предусмотрел возможность подписки одного человека на несколько групп. Следовательно, удалять эти строки как дубликаты я не буду."
   ]
  },
  {
   "cell_type": "markdown",
   "metadata": {},
   "source": [
    "### City"
   ]
  },
  {
   "cell_type": "code",
   "execution_count": 85,
   "metadata": {},
   "outputs": [
    {
     "data": {
      "text/plain": [
       "2503"
      ]
     },
     "execution_count": 85,
     "metadata": {},
     "output_type": "execute_result"
    }
   ],
   "source": [
    "# Проверяю количество пропусков в столбце городов.\n",
    "subsd_df['city'].isnull().sum()\n",
    "# Эти строки можно удалить без потери ценной информации."
   ]
  },
  {
   "cell_type": "code",
   "execution_count": 86,
   "metadata": {},
   "outputs": [
    {
     "data": {
      "text/plain": [
       "0"
      ]
     },
     "execution_count": 86,
     "metadata": {},
     "output_type": "execute_result"
    }
   ],
   "source": [
    "# Удаляю строки с пропущенными значениями только по столбцу city\n",
    "subsd_df = subsd_df.dropna(subset=['city'])\n",
    "# Проверяю, правильно ли все удалилось\n",
    "subsd_df['city'].isnull().sum()"
   ]
  },
  {
   "cell_type": "markdown",
   "metadata": {},
   "source": [
    "<font color='purple'> Вроде верно, для уверенности посмотрю по количеству всех строк в датафрейме"
   ]
  },
  {
   "cell_type": "code",
   "execution_count": 87,
   "metadata": {},
   "outputs": [
    {
     "data": {
      "text/plain": [
       "12497"
      ]
     },
     "execution_count": 87,
     "metadata": {},
     "output_type": "execute_result"
    }
   ],
   "source": [
    "subsd_df.shape[0]\n",
    "# Пропуски по city удалены корректно, перехожу на следующие столбцы."
   ]
  },
  {
   "cell_type": "markdown",
   "metadata": {},
   "source": [
    "### Country"
   ]
  },
  {
   "cell_type": "code",
   "execution_count": 88,
   "metadata": {},
   "outputs": [
    {
     "data": {
      "text/plain": [
       "394"
      ]
     },
     "execution_count": 88,
     "metadata": {},
     "output_type": "execute_result"
    }
   ],
   "source": [
    "# Проверяю количество пропусков в столбце страны.\n",
    "subsd_df['country'].isnull().sum()"
   ]
  },
  {
   "cell_type": "code",
   "execution_count": 89,
   "metadata": {},
   "outputs": [
    {
     "data": {
      "text/plain": [
       "0"
      ]
     },
     "execution_count": 89,
     "metadata": {},
     "output_type": "execute_result"
    }
   ],
   "source": [
    "# Удаляю строки с пропущенными значениями только по столбцу city\n",
    "subsd_df = subsd_df.dropna(subset=['country'])\n",
    "# Проверяю, правильно ли все удалилось\n",
    "subsd_df['country'].isnull().sum()\n",
    "# В столбце страны больше нет пропусков"
   ]
  },
  {
   "cell_type": "markdown",
   "metadata": {},
   "source": [
    "### Bdate"
   ]
  },
  {
   "cell_type": "code",
   "execution_count": 90,
   "metadata": {},
   "outputs": [
    {
     "data": {
      "text/plain": [
       "2405"
      ]
     },
     "execution_count": 90,
     "metadata": {},
     "output_type": "execute_result"
    }
   ],
   "source": [
    "# Проверяю количество пропусков в столбце даты рождения.\n",
    "subsd_df['bdate'].isnull().sum()"
   ]
  },
  {
   "cell_type": "code",
   "execution_count": 91,
   "metadata": {},
   "outputs": [
    {
     "data": {
      "text/plain": [
       "0"
      ]
     },
     "execution_count": 91,
     "metadata": {},
     "output_type": "execute_result"
    }
   ],
   "source": [
    "# Удаляю строки с пропущенными значениями только по столбцу bdate\n",
    "subsd_df = subsd_df.dropna(subset=['bdate'])\n",
    "# Проверяю, правильно ли все удалилось\n",
    "subsd_df['bdate'].isnull().sum()\n",
    "# В столбце даты рождения больше нет пропусков"
   ]
  },
  {
   "cell_type": "markdown",
   "metadata": {},
   "source": [
    "### University"
   ]
  },
  {
   "cell_type": "code",
   "execution_count": 92,
   "metadata": {},
   "outputs": [
    {
     "data": {
      "text/plain": [
       "8160"
      ]
     },
     "execution_count": 92,
     "metadata": {},
     "output_type": "execute_result"
    }
   ],
   "source": [
    "# Проверяю количество пропусков в столбце названия университета.\n",
    "subsd_df['university_name'].isnull().sum()"
   ]
  },
  {
   "cell_type": "markdown",
   "metadata": {},
   "source": [
    "<font color='purple'>Получаю слишком большое количесвто пропусков, при удалении которых мой датафрейм станет слишком малого размера, поэтому оставлю этот столбец на потом."
   ]
  },
  {
   "cell_type": "markdown",
   "metadata": {},
   "source": [
    "### Deactivated"
   ]
  },
  {
   "cell_type": "code",
   "execution_count": 95,
   "metadata": {},
   "outputs": [
    {
     "data": {
      "text/plain": [
       "9698"
      ]
     },
     "execution_count": 95,
     "metadata": {},
     "output_type": "execute_result"
    }
   ],
   "source": [
    "# Перед проверкой столбца deactivated нахожу общще количество оставшихся строк\n",
    "subsd_df.shape[0]"
   ]
  },
  {
   "cell_type": "code",
   "execution_count": 96,
   "metadata": {},
   "outputs": [
    {
     "data": {
      "text/plain": [
       "9698"
      ]
     },
     "execution_count": 96,
     "metadata": {},
     "output_type": "execute_result"
    }
   ],
   "source": [
    "# Проверяю количество пустых значений по столбцу deactivated, которые означают существование и финкционирование аккаунтов.\n",
    "subsd_df['deactivated'].isnull().sum()\n",
    "# Получаю, что в столбце deactivated нету не активных пользователей, значит сам столбец можно полностью удалить"
   ]
  },
  {
   "cell_type": "code",
   "execution_count": 97,
   "metadata": {},
   "outputs": [
    {
     "data": {
      "text/html": [
       "<div>\n",
       "<style scoped>\n",
       "    .dataframe tbody tr th:only-of-type {\n",
       "        vertical-align: middle;\n",
       "    }\n",
       "\n",
       "    .dataframe tbody tr th {\n",
       "        vertical-align: top;\n",
       "    }\n",
       "\n",
       "    .dataframe thead th {\n",
       "        text-align: right;\n",
       "    }\n",
       "</style>\n",
       "<table border=\"1\" class=\"dataframe\">\n",
       "  <thead>\n",
       "    <tr style=\"text-align: right;\">\n",
       "      <th></th>\n",
       "      <th>id</th>\n",
       "      <th>bdate</th>\n",
       "      <th>city</th>\n",
       "      <th>country</th>\n",
       "      <th>university_name</th>\n",
       "      <th>sex</th>\n",
       "      <th>first_name</th>\n",
       "      <th>last_name</th>\n",
       "      <th>is_closed</th>\n",
       "      <th>game</th>\n",
       "    </tr>\n",
       "  </thead>\n",
       "  <tbody>\n",
       "    <tr>\n",
       "      <th>0</th>\n",
       "      <td>3744</td>\n",
       "      <td>10.5</td>\n",
       "      <td>Санкт-Петербург</td>\n",
       "      <td>{'id': 1, 'title': 'Россия'}</td>\n",
       "      <td>СПбГУ</td>\n",
       "      <td>2</td>\n",
       "      <td>Alexander</td>\n",
       "      <td>Ageyev</td>\n",
       "      <td>False</td>\n",
       "      <td>Тарков</td>\n",
       "    </tr>\n",
       "    <tr>\n",
       "      <th>1</th>\n",
       "      <td>5217</td>\n",
       "      <td>29.7</td>\n",
       "      <td>Москва</td>\n",
       "      <td>{'id': 1, 'title': 'Россия'}</td>\n",
       "      <td>NaN</td>\n",
       "      <td>2</td>\n",
       "      <td>Никита</td>\n",
       "      <td>Красиков</td>\n",
       "      <td>False</td>\n",
       "      <td>Тарков</td>\n",
       "    </tr>\n",
       "    <tr>\n",
       "      <th>2</th>\n",
       "      <td>7241</td>\n",
       "      <td>24.6</td>\n",
       "      <td>Санкт-Петербург</td>\n",
       "      <td>{'id': 1, 'title': 'Россия'}</td>\n",
       "      <td>NaN</td>\n",
       "      <td>2</td>\n",
       "      <td>Денис</td>\n",
       "      <td>Игоревич</td>\n",
       "      <td>True</td>\n",
       "      <td>Тарков</td>\n",
       "    </tr>\n",
       "    <tr>\n",
       "      <th>3</th>\n",
       "      <td>8315</td>\n",
       "      <td>19.6</td>\n",
       "      <td>Санкт-Петербург</td>\n",
       "      <td>{'id': 1, 'title': 'Россия'}</td>\n",
       "      <td>NaN</td>\n",
       "      <td>2</td>\n",
       "      <td>Иван</td>\n",
       "      <td>Ли</td>\n",
       "      <td>True</td>\n",
       "      <td>Тарков</td>\n",
       "    </tr>\n",
       "    <tr>\n",
       "      <th>4</th>\n",
       "      <td>8404</td>\n",
       "      <td>6.6.1987</td>\n",
       "      <td>Санкт-Петербург</td>\n",
       "      <td>{'id': 1, 'title': 'Россия'}</td>\n",
       "      <td>СПбГЭТУ «ЛЭТИ»</td>\n",
       "      <td>2</td>\n",
       "      <td>Александр</td>\n",
       "      <td>Петров</td>\n",
       "      <td>False</td>\n",
       "      <td>Тарков</td>\n",
       "    </tr>\n",
       "    <tr>\n",
       "      <th>...</th>\n",
       "      <td>...</td>\n",
       "      <td>...</td>\n",
       "      <td>...</td>\n",
       "      <td>...</td>\n",
       "      <td>...</td>\n",
       "      <td>...</td>\n",
       "      <td>...</td>\n",
       "      <td>...</td>\n",
       "      <td>...</td>\n",
       "      <td>...</td>\n",
       "    </tr>\n",
       "    <tr>\n",
       "      <th>14990</th>\n",
       "      <td>91160706</td>\n",
       "      <td>7.9</td>\n",
       "      <td>Новосибирск</td>\n",
       "      <td>{'id': 1, 'title': 'Россия'}</td>\n",
       "      <td>NaN</td>\n",
       "      <td>1</td>\n",
       "      <td>Светлана</td>\n",
       "      <td>Фомышина</td>\n",
       "      <td>False</td>\n",
       "      <td>Бравлстарс</td>\n",
       "    </tr>\n",
       "    <tr>\n",
       "      <th>14991</th>\n",
       "      <td>91177027</td>\n",
       "      <td>29.1.1974</td>\n",
       "      <td>Красноармейск</td>\n",
       "      <td>{'id': 1, 'title': 'Россия'}</td>\n",
       "      <td>NaN</td>\n",
       "      <td>2</td>\n",
       "      <td>Сергей</td>\n",
       "      <td>Квардонов</td>\n",
       "      <td>True</td>\n",
       "      <td>Бравлстарс</td>\n",
       "    </tr>\n",
       "    <tr>\n",
       "      <th>14994</th>\n",
       "      <td>91225145</td>\n",
       "      <td>18.6.1987</td>\n",
       "      <td>Мурманск</td>\n",
       "      <td>{'id': 1, 'title': 'Россия'}</td>\n",
       "      <td>NaN</td>\n",
       "      <td>1</td>\n",
       "      <td>Светлана</td>\n",
       "      <td>Нестерова</td>\n",
       "      <td>False</td>\n",
       "      <td>Бравлстарс</td>\n",
       "    </tr>\n",
       "    <tr>\n",
       "      <th>14995</th>\n",
       "      <td>91226047</td>\n",
       "      <td>6.10.2000</td>\n",
       "      <td>Strasbourg</td>\n",
       "      <td>{'id': 209, 'title': 'Франция'}</td>\n",
       "      <td>NaN</td>\n",
       "      <td>2</td>\n",
       "      <td>Тамерлан</td>\n",
       "      <td>Калимуллин</td>\n",
       "      <td>False</td>\n",
       "      <td>Бравлстарс</td>\n",
       "    </tr>\n",
       "    <tr>\n",
       "      <th>14997</th>\n",
       "      <td>91247242</td>\n",
       "      <td>21.9.1989</td>\n",
       "      <td>Минск</td>\n",
       "      <td>{'id': 3, 'title': 'Беларусь'}</td>\n",
       "      <td>NaN</td>\n",
       "      <td>2</td>\n",
       "      <td>Алексей</td>\n",
       "      <td>Muchkin</td>\n",
       "      <td>False</td>\n",
       "      <td>Бравлстарс</td>\n",
       "    </tr>\n",
       "  </tbody>\n",
       "</table>\n",
       "<p>9698 rows × 10 columns</p>\n",
       "</div>"
      ],
      "text/plain": [
       "             id      bdate             city                          country  \\\n",
       "0          3744       10.5  Санкт-Петербург     {'id': 1, 'title': 'Россия'}   \n",
       "1          5217       29.7           Москва     {'id': 1, 'title': 'Россия'}   \n",
       "2          7241       24.6  Санкт-Петербург     {'id': 1, 'title': 'Россия'}   \n",
       "3          8315       19.6  Санкт-Петербург     {'id': 1, 'title': 'Россия'}   \n",
       "4          8404   6.6.1987  Санкт-Петербург     {'id': 1, 'title': 'Россия'}   \n",
       "...         ...        ...              ...                              ...   \n",
       "14990  91160706        7.9      Новосибирск     {'id': 1, 'title': 'Россия'}   \n",
       "14991  91177027  29.1.1974    Красноармейск     {'id': 1, 'title': 'Россия'}   \n",
       "14994  91225145  18.6.1987         Мурманск     {'id': 1, 'title': 'Россия'}   \n",
       "14995  91226047  6.10.2000       Strasbourg  {'id': 209, 'title': 'Франция'}   \n",
       "14997  91247242  21.9.1989            Минск   {'id': 3, 'title': 'Беларусь'}   \n",
       "\n",
       "      university_name  sex first_name   last_name  is_closed        game  \n",
       "0               СПбГУ    2  Alexander      Ageyev      False      Тарков  \n",
       "1                 NaN    2     Никита    Красиков      False      Тарков  \n",
       "2                 NaN    2      Денис    Игоревич       True      Тарков  \n",
       "3                 NaN    2       Иван          Ли       True      Тарков  \n",
       "4      СПбГЭТУ «ЛЭТИ»    2  Александр      Петров      False      Тарков  \n",
       "...               ...  ...        ...         ...        ...         ...  \n",
       "14990             NaN    1   Светлана    Фомышина      False  Бравлстарс  \n",
       "14991             NaN    2     Сергей   Квардонов       True  Бравлстарс  \n",
       "14994             NaN    1   Светлана   Нестерова      False  Бравлстарс  \n",
       "14995             NaN    2   Тамерлан  Калимуллин      False  Бравлстарс  \n",
       "14997             NaN    2    Алексей     Muchkin      False  Бравлстарс  \n",
       "\n",
       "[9698 rows x 10 columns]"
      ]
     },
     "execution_count": 97,
     "metadata": {},
     "output_type": "execute_result"
    }
   ],
   "source": [
    "# Удалаю столбец deactivated\n",
    "subsd_df = subsd_df.drop('deactivated', axis= 1)\n",
    "# Проверяю удаление\n",
    "subsd_df"
   ]
  },
  {
   "cell_type": "markdown",
   "metadata": {},
   "source": [
    "## Приведение данных к единому виду"
   ]
  },
  {
   "cell_type": "markdown",
   "metadata": {},
   "source": [
    "### sex"
   ]
  },
  {
   "cell_type": "code",
   "execution_count": 104,
   "metadata": {},
   "outputs": [],
   "source": [
    "# Создаю для этого этапа новый датасет и сохраняю прошлый в csv\n",
    "subs_del = subsd_df \n",
    "subsd_df.to_csv('subsd_df.csv', sep=',')"
   ]
  },
  {
   "cell_type": "code",
   "execution_count": 37,
   "metadata": {},
   "outputs": [],
   "source": [
    "subsd_df = pd.read_csv('subsd_df.csv')\n",
    "subs_del = subsd_df "
   ]
  },
  {
   "cell_type": "code",
   "execution_count": 38,
   "metadata": {},
   "outputs": [
    {
     "data": {
      "text/html": [
       "<div>\n",
       "<style scoped>\n",
       "    .dataframe tbody tr th:only-of-type {\n",
       "        vertical-align: middle;\n",
       "    }\n",
       "\n",
       "    .dataframe tbody tr th {\n",
       "        vertical-align: top;\n",
       "    }\n",
       "\n",
       "    .dataframe thead th {\n",
       "        text-align: right;\n",
       "    }\n",
       "</style>\n",
       "<table border=\"1\" class=\"dataframe\">\n",
       "  <thead>\n",
       "    <tr style=\"text-align: right;\">\n",
       "      <th></th>\n",
       "      <th>id</th>\n",
       "      <th>bdate</th>\n",
       "      <th>city</th>\n",
       "      <th>country</th>\n",
       "      <th>university_name</th>\n",
       "      <th>sex</th>\n",
       "      <th>first_name</th>\n",
       "      <th>last_name</th>\n",
       "      <th>is_closed</th>\n",
       "      <th>game</th>\n",
       "    </tr>\n",
       "  </thead>\n",
       "  <tbody>\n",
       "    <tr>\n",
       "      <th>0</th>\n",
       "      <td>3744</td>\n",
       "      <td>10.5</td>\n",
       "      <td>Санкт-Петербург</td>\n",
       "      <td>{'id': 1, 'title': 'Россия'}</td>\n",
       "      <td>СПбГУ</td>\n",
       "      <td>Male</td>\n",
       "      <td>Alexander</td>\n",
       "      <td>Ageyev</td>\n",
       "      <td>False</td>\n",
       "      <td>Тарков</td>\n",
       "    </tr>\n",
       "    <tr>\n",
       "      <th>1</th>\n",
       "      <td>5217</td>\n",
       "      <td>29.7</td>\n",
       "      <td>Москва</td>\n",
       "      <td>{'id': 1, 'title': 'Россия'}</td>\n",
       "      <td>NaN</td>\n",
       "      <td>Male</td>\n",
       "      <td>Никита</td>\n",
       "      <td>Красиков</td>\n",
       "      <td>False</td>\n",
       "      <td>Тарков</td>\n",
       "    </tr>\n",
       "    <tr>\n",
       "      <th>2</th>\n",
       "      <td>7241</td>\n",
       "      <td>24.6</td>\n",
       "      <td>Санкт-Петербург</td>\n",
       "      <td>{'id': 1, 'title': 'Россия'}</td>\n",
       "      <td>NaN</td>\n",
       "      <td>Male</td>\n",
       "      <td>Денис</td>\n",
       "      <td>Игоревич</td>\n",
       "      <td>True</td>\n",
       "      <td>Тарков</td>\n",
       "    </tr>\n",
       "    <tr>\n",
       "      <th>3</th>\n",
       "      <td>8315</td>\n",
       "      <td>19.6</td>\n",
       "      <td>Санкт-Петербург</td>\n",
       "      <td>{'id': 1, 'title': 'Россия'}</td>\n",
       "      <td>NaN</td>\n",
       "      <td>Male</td>\n",
       "      <td>Иван</td>\n",
       "      <td>Ли</td>\n",
       "      <td>True</td>\n",
       "      <td>Тарков</td>\n",
       "    </tr>\n",
       "    <tr>\n",
       "      <th>4</th>\n",
       "      <td>8404</td>\n",
       "      <td>6.6.1987</td>\n",
       "      <td>Санкт-Петербург</td>\n",
       "      <td>{'id': 1, 'title': 'Россия'}</td>\n",
       "      <td>СПбГЭТУ «ЛЭТИ»</td>\n",
       "      <td>Male</td>\n",
       "      <td>Александр</td>\n",
       "      <td>Петров</td>\n",
       "      <td>False</td>\n",
       "      <td>Тарков</td>\n",
       "    </tr>\n",
       "    <tr>\n",
       "      <th>...</th>\n",
       "      <td>...</td>\n",
       "      <td>...</td>\n",
       "      <td>...</td>\n",
       "      <td>...</td>\n",
       "      <td>...</td>\n",
       "      <td>...</td>\n",
       "      <td>...</td>\n",
       "      <td>...</td>\n",
       "      <td>...</td>\n",
       "      <td>...</td>\n",
       "    </tr>\n",
       "    <tr>\n",
       "      <th>9693</th>\n",
       "      <td>91160706</td>\n",
       "      <td>7.9</td>\n",
       "      <td>Новосибирск</td>\n",
       "      <td>{'id': 1, 'title': 'Россия'}</td>\n",
       "      <td>NaN</td>\n",
       "      <td>Female</td>\n",
       "      <td>Светлана</td>\n",
       "      <td>Фомышина</td>\n",
       "      <td>False</td>\n",
       "      <td>Бравлстарс</td>\n",
       "    </tr>\n",
       "    <tr>\n",
       "      <th>9694</th>\n",
       "      <td>91177027</td>\n",
       "      <td>29.1.1974</td>\n",
       "      <td>Красноармейск</td>\n",
       "      <td>{'id': 1, 'title': 'Россия'}</td>\n",
       "      <td>NaN</td>\n",
       "      <td>Male</td>\n",
       "      <td>Сергей</td>\n",
       "      <td>Квардонов</td>\n",
       "      <td>True</td>\n",
       "      <td>Бравлстарс</td>\n",
       "    </tr>\n",
       "    <tr>\n",
       "      <th>9695</th>\n",
       "      <td>91225145</td>\n",
       "      <td>18.6.1987</td>\n",
       "      <td>Мурманск</td>\n",
       "      <td>{'id': 1, 'title': 'Россия'}</td>\n",
       "      <td>NaN</td>\n",
       "      <td>Female</td>\n",
       "      <td>Светлана</td>\n",
       "      <td>Нестерова</td>\n",
       "      <td>False</td>\n",
       "      <td>Бравлстарс</td>\n",
       "    </tr>\n",
       "    <tr>\n",
       "      <th>9696</th>\n",
       "      <td>91226047</td>\n",
       "      <td>6.10.2000</td>\n",
       "      <td>Strasbourg</td>\n",
       "      <td>{'id': 209, 'title': 'Франция'}</td>\n",
       "      <td>NaN</td>\n",
       "      <td>Male</td>\n",
       "      <td>Тамерлан</td>\n",
       "      <td>Калимуллин</td>\n",
       "      <td>False</td>\n",
       "      <td>Бравлстарс</td>\n",
       "    </tr>\n",
       "    <tr>\n",
       "      <th>9697</th>\n",
       "      <td>91247242</td>\n",
       "      <td>21.9.1989</td>\n",
       "      <td>Минск</td>\n",
       "      <td>{'id': 3, 'title': 'Беларусь'}</td>\n",
       "      <td>NaN</td>\n",
       "      <td>Male</td>\n",
       "      <td>Алексей</td>\n",
       "      <td>Muchkin</td>\n",
       "      <td>False</td>\n",
       "      <td>Бравлстарс</td>\n",
       "    </tr>\n",
       "  </tbody>\n",
       "</table>\n",
       "<p>9698 rows × 10 columns</p>\n",
       "</div>"
      ],
      "text/plain": [
       "            id      bdate             city                          country  \\\n",
       "0         3744       10.5  Санкт-Петербург     {'id': 1, 'title': 'Россия'}   \n",
       "1         5217       29.7           Москва     {'id': 1, 'title': 'Россия'}   \n",
       "2         7241       24.6  Санкт-Петербург     {'id': 1, 'title': 'Россия'}   \n",
       "3         8315       19.6  Санкт-Петербург     {'id': 1, 'title': 'Россия'}   \n",
       "4         8404   6.6.1987  Санкт-Петербург     {'id': 1, 'title': 'Россия'}   \n",
       "...        ...        ...              ...                              ...   \n",
       "9693  91160706        7.9      Новосибирск     {'id': 1, 'title': 'Россия'}   \n",
       "9694  91177027  29.1.1974    Красноармейск     {'id': 1, 'title': 'Россия'}   \n",
       "9695  91225145  18.6.1987         Мурманск     {'id': 1, 'title': 'Россия'}   \n",
       "9696  91226047  6.10.2000       Strasbourg  {'id': 209, 'title': 'Франция'}   \n",
       "9697  91247242  21.9.1989            Минск   {'id': 3, 'title': 'Беларусь'}   \n",
       "\n",
       "     university_name     sex first_name   last_name  is_closed        game  \n",
       "0              СПбГУ    Male  Alexander      Ageyev      False      Тарков  \n",
       "1                NaN    Male     Никита    Красиков      False      Тарков  \n",
       "2                NaN    Male      Денис    Игоревич       True      Тарков  \n",
       "3                NaN    Male       Иван          Ли       True      Тарков  \n",
       "4     СПбГЭТУ «ЛЭТИ»    Male  Александр      Петров      False      Тарков  \n",
       "...              ...     ...        ...         ...        ...         ...  \n",
       "9693             NaN  Female   Светлана    Фомышина      False  Бравлстарс  \n",
       "9694             NaN    Male     Сергей   Квардонов       True  Бравлстарс  \n",
       "9695             NaN  Female   Светлана   Нестерова      False  Бравлстарс  \n",
       "9696             NaN    Male   Тамерлан  Калимуллин      False  Бравлстарс  \n",
       "9697             NaN    Male    Алексей     Muchkin      False  Бравлстарс  \n",
       "\n",
       "[9698 rows x 10 columns]"
      ]
     },
     "execution_count": 38,
     "metadata": {},
     "output_type": "execute_result"
    }
   ],
   "source": [
    "# В столбце \"пол\" привожу значение к более понятному виду\n",
    "subs_del['sex'] = np.where(subs_del['sex']==1, 'Female', 'Male')\n",
    "subs_del"
   ]
  },
  {
   "cell_type": "markdown",
   "metadata": {},
   "source": [
    "### Country"
   ]
  },
  {
   "cell_type": "code",
   "execution_count": 39,
   "metadata": {},
   "outputs": [
    {
     "data": {
      "text/html": [
       "<div>\n",
       "<style scoped>\n",
       "    .dataframe tbody tr th:only-of-type {\n",
       "        vertical-align: middle;\n",
       "    }\n",
       "\n",
       "    .dataframe tbody tr th {\n",
       "        vertical-align: top;\n",
       "    }\n",
       "\n",
       "    .dataframe thead th {\n",
       "        text-align: right;\n",
       "    }\n",
       "</style>\n",
       "<table border=\"1\" class=\"dataframe\">\n",
       "  <thead>\n",
       "    <tr style=\"text-align: right;\">\n",
       "      <th></th>\n",
       "      <th>country_name</th>\n",
       "    </tr>\n",
       "  </thead>\n",
       "  <tbody>\n",
       "    <tr>\n",
       "      <th>0</th>\n",
       "      <td>Россия</td>\n",
       "    </tr>\n",
       "    <tr>\n",
       "      <th>1</th>\n",
       "      <td>Россия</td>\n",
       "    </tr>\n",
       "    <tr>\n",
       "      <th>2</th>\n",
       "      <td>Россия</td>\n",
       "    </tr>\n",
       "    <tr>\n",
       "      <th>3</th>\n",
       "      <td>Россия</td>\n",
       "    </tr>\n",
       "    <tr>\n",
       "      <th>4</th>\n",
       "      <td>Россия</td>\n",
       "    </tr>\n",
       "    <tr>\n",
       "      <th>...</th>\n",
       "      <td>...</td>\n",
       "    </tr>\n",
       "    <tr>\n",
       "      <th>9693</th>\n",
       "      <td>Россия</td>\n",
       "    </tr>\n",
       "    <tr>\n",
       "      <th>9694</th>\n",
       "      <td>Россия</td>\n",
       "    </tr>\n",
       "    <tr>\n",
       "      <th>9695</th>\n",
       "      <td>Россия</td>\n",
       "    </tr>\n",
       "    <tr>\n",
       "      <th>9696</th>\n",
       "      <td>Франция</td>\n",
       "    </tr>\n",
       "    <tr>\n",
       "      <th>9697</th>\n",
       "      <td>Беларусь</td>\n",
       "    </tr>\n",
       "  </tbody>\n",
       "</table>\n",
       "<p>9698 rows × 1 columns</p>\n",
       "</div>"
      ],
      "text/plain": [
       "     country_name\n",
       "0          Россия\n",
       "1          Россия\n",
       "2          Россия\n",
       "3          Россия\n",
       "4          Россия\n",
       "...           ...\n",
       "9693       Россия\n",
       "9694       Россия\n",
       "9695       Россия\n",
       "9696      Франция\n",
       "9697     Беларусь\n",
       "\n",
       "[9698 rows x 1 columns]"
      ]
     },
     "execution_count": 39,
     "metadata": {},
     "output_type": "execute_result"
    }
   ],
   "source": [
    "# Столбец country разделяю по знаку ', записываю полученные значения в новые столбцы нового датафрейма\n",
    "sp = subs_del['country'].str.split(\"'\", expand=True)\n",
    "# Переименовываю полученные колонки для более удобного индексирования\n",
    "sp = sp.rename(columns={0: '0', 1: '1', 2: '2', 3: '3', 4: '4', 5: 'country_name', 6: '6'})\n",
    "# Удаляю ненужные столбцы\n",
    "sp.drop (sp.columns[[0,1,2,3,4,6]], axis= 1 , inplace= True )\n",
    "# Проверяю, что получилось\n",
    "sp"
   ]
  },
  {
   "cell_type": "code",
   "execution_count": 40,
   "metadata": {},
   "outputs": [
    {
     "data": {
      "text/html": [
       "<div>\n",
       "<style scoped>\n",
       "    .dataframe tbody tr th:only-of-type {\n",
       "        vertical-align: middle;\n",
       "    }\n",
       "\n",
       "    .dataframe tbody tr th {\n",
       "        vertical-align: top;\n",
       "    }\n",
       "\n",
       "    .dataframe thead th {\n",
       "        text-align: right;\n",
       "    }\n",
       "</style>\n",
       "<table border=\"1\" class=\"dataframe\">\n",
       "  <thead>\n",
       "    <tr style=\"text-align: right;\">\n",
       "      <th></th>\n",
       "      <th>id</th>\n",
       "      <th>bdate</th>\n",
       "      <th>city</th>\n",
       "      <th>country_name</th>\n",
       "      <th>university_name</th>\n",
       "      <th>sex</th>\n",
       "      <th>first_name</th>\n",
       "      <th>last_name</th>\n",
       "      <th>is_closed</th>\n",
       "      <th>game</th>\n",
       "    </tr>\n",
       "  </thead>\n",
       "  <tbody>\n",
       "    <tr>\n",
       "      <th>0</th>\n",
       "      <td>3744</td>\n",
       "      <td>10.5</td>\n",
       "      <td>Санкт-Петербург</td>\n",
       "      <td>Россия</td>\n",
       "      <td>СПбГУ</td>\n",
       "      <td>Male</td>\n",
       "      <td>Alexander</td>\n",
       "      <td>Ageyev</td>\n",
       "      <td>False</td>\n",
       "      <td>Тарков</td>\n",
       "    </tr>\n",
       "    <tr>\n",
       "      <th>1</th>\n",
       "      <td>5217</td>\n",
       "      <td>29.7</td>\n",
       "      <td>Москва</td>\n",
       "      <td>Россия</td>\n",
       "      <td>NaN</td>\n",
       "      <td>Male</td>\n",
       "      <td>Никита</td>\n",
       "      <td>Красиков</td>\n",
       "      <td>False</td>\n",
       "      <td>Тарков</td>\n",
       "    </tr>\n",
       "    <tr>\n",
       "      <th>2</th>\n",
       "      <td>7241</td>\n",
       "      <td>24.6</td>\n",
       "      <td>Санкт-Петербург</td>\n",
       "      <td>Россия</td>\n",
       "      <td>NaN</td>\n",
       "      <td>Male</td>\n",
       "      <td>Денис</td>\n",
       "      <td>Игоревич</td>\n",
       "      <td>True</td>\n",
       "      <td>Тарков</td>\n",
       "    </tr>\n",
       "    <tr>\n",
       "      <th>3</th>\n",
       "      <td>8315</td>\n",
       "      <td>19.6</td>\n",
       "      <td>Санкт-Петербург</td>\n",
       "      <td>Россия</td>\n",
       "      <td>NaN</td>\n",
       "      <td>Male</td>\n",
       "      <td>Иван</td>\n",
       "      <td>Ли</td>\n",
       "      <td>True</td>\n",
       "      <td>Тарков</td>\n",
       "    </tr>\n",
       "    <tr>\n",
       "      <th>4</th>\n",
       "      <td>8404</td>\n",
       "      <td>6.6.1987</td>\n",
       "      <td>Санкт-Петербург</td>\n",
       "      <td>Россия</td>\n",
       "      <td>СПбГЭТУ «ЛЭТИ»</td>\n",
       "      <td>Male</td>\n",
       "      <td>Александр</td>\n",
       "      <td>Петров</td>\n",
       "      <td>False</td>\n",
       "      <td>Тарков</td>\n",
       "    </tr>\n",
       "    <tr>\n",
       "      <th>...</th>\n",
       "      <td>...</td>\n",
       "      <td>...</td>\n",
       "      <td>...</td>\n",
       "      <td>...</td>\n",
       "      <td>...</td>\n",
       "      <td>...</td>\n",
       "      <td>...</td>\n",
       "      <td>...</td>\n",
       "      <td>...</td>\n",
       "      <td>...</td>\n",
       "    </tr>\n",
       "    <tr>\n",
       "      <th>9693</th>\n",
       "      <td>91160706</td>\n",
       "      <td>7.9</td>\n",
       "      <td>Новосибирск</td>\n",
       "      <td>Россия</td>\n",
       "      <td>NaN</td>\n",
       "      <td>Female</td>\n",
       "      <td>Светлана</td>\n",
       "      <td>Фомышина</td>\n",
       "      <td>False</td>\n",
       "      <td>Бравлстарс</td>\n",
       "    </tr>\n",
       "    <tr>\n",
       "      <th>9694</th>\n",
       "      <td>91177027</td>\n",
       "      <td>29.1.1974</td>\n",
       "      <td>Красноармейск</td>\n",
       "      <td>Россия</td>\n",
       "      <td>NaN</td>\n",
       "      <td>Male</td>\n",
       "      <td>Сергей</td>\n",
       "      <td>Квардонов</td>\n",
       "      <td>True</td>\n",
       "      <td>Бравлстарс</td>\n",
       "    </tr>\n",
       "    <tr>\n",
       "      <th>9695</th>\n",
       "      <td>91225145</td>\n",
       "      <td>18.6.1987</td>\n",
       "      <td>Мурманск</td>\n",
       "      <td>Россия</td>\n",
       "      <td>NaN</td>\n",
       "      <td>Female</td>\n",
       "      <td>Светлана</td>\n",
       "      <td>Нестерова</td>\n",
       "      <td>False</td>\n",
       "      <td>Бравлстарс</td>\n",
       "    </tr>\n",
       "    <tr>\n",
       "      <th>9696</th>\n",
       "      <td>91226047</td>\n",
       "      <td>6.10.2000</td>\n",
       "      <td>Strasbourg</td>\n",
       "      <td>Франция</td>\n",
       "      <td>NaN</td>\n",
       "      <td>Male</td>\n",
       "      <td>Тамерлан</td>\n",
       "      <td>Калимуллин</td>\n",
       "      <td>False</td>\n",
       "      <td>Бравлстарс</td>\n",
       "    </tr>\n",
       "    <tr>\n",
       "      <th>9697</th>\n",
       "      <td>91247242</td>\n",
       "      <td>21.9.1989</td>\n",
       "      <td>Минск</td>\n",
       "      <td>Беларусь</td>\n",
       "      <td>NaN</td>\n",
       "      <td>Male</td>\n",
       "      <td>Алексей</td>\n",
       "      <td>Muchkin</td>\n",
       "      <td>False</td>\n",
       "      <td>Бравлстарс</td>\n",
       "    </tr>\n",
       "  </tbody>\n",
       "</table>\n",
       "<p>9698 rows × 10 columns</p>\n",
       "</div>"
      ],
      "text/plain": [
       "            id      bdate             city country_name university_name  \\\n",
       "0         3744       10.5  Санкт-Петербург       Россия           СПбГУ   \n",
       "1         5217       29.7           Москва       Россия             NaN   \n",
       "2         7241       24.6  Санкт-Петербург       Россия             NaN   \n",
       "3         8315       19.6  Санкт-Петербург       Россия             NaN   \n",
       "4         8404   6.6.1987  Санкт-Петербург       Россия  СПбГЭТУ «ЛЭТИ»   \n",
       "...        ...        ...              ...          ...             ...   \n",
       "9693  91160706        7.9      Новосибирск       Россия             NaN   \n",
       "9694  91177027  29.1.1974    Красноармейск       Россия             NaN   \n",
       "9695  91225145  18.6.1987         Мурманск       Россия             NaN   \n",
       "9696  91226047  6.10.2000       Strasbourg      Франция             NaN   \n",
       "9697  91247242  21.9.1989            Минск     Беларусь             NaN   \n",
       "\n",
       "         sex first_name   last_name  is_closed        game  \n",
       "0       Male  Alexander      Ageyev      False      Тарков  \n",
       "1       Male     Никита    Красиков      False      Тарков  \n",
       "2       Male      Денис    Игоревич       True      Тарков  \n",
       "3       Male       Иван          Ли       True      Тарков  \n",
       "4       Male  Александр      Петров      False      Тарков  \n",
       "...      ...        ...         ...        ...         ...  \n",
       "9693  Female   Светлана    Фомышина      False  Бравлстарс  \n",
       "9694    Male     Сергей   Квардонов       True  Бравлстарс  \n",
       "9695  Female   Светлана   Нестерова      False  Бравлстарс  \n",
       "9696    Male   Тамерлан  Калимуллин      False  Бравлстарс  \n",
       "9697    Male    Алексей     Muchkin      False  Бравлстарс  \n",
       "\n",
       "[9698 rows x 10 columns]"
      ]
     },
     "execution_count": 40,
     "metadata": {},
     "output_type": "execute_result"
    }
   ],
   "source": [
    "# Добавляю полученный столбец в исходный датафрейм на 3 позицию (вместо бывшего country)\n",
    "subs_del.insert (3, 'country_name', sp)\n",
    "# Удаляю старый столбец country\n",
    "subs_del=subs_del.drop('country', axis=1)\n",
    "# Проверяю\n",
    "subs_del\n",
    "# Все заменилось успешно"
   ]
  },
  {
   "cell_type": "markdown",
   "metadata": {},
   "source": [
    "### Is_closed"
   ]
  },
  {
   "cell_type": "code",
   "execution_count": 41,
   "metadata": {},
   "outputs": [
    {
     "data": {
      "text/html": [
       "<div>\n",
       "<style scoped>\n",
       "    .dataframe tbody tr th:only-of-type {\n",
       "        vertical-align: middle;\n",
       "    }\n",
       "\n",
       "    .dataframe tbody tr th {\n",
       "        vertical-align: top;\n",
       "    }\n",
       "\n",
       "    .dataframe thead th {\n",
       "        text-align: right;\n",
       "    }\n",
       "</style>\n",
       "<table border=\"1\" class=\"dataframe\">\n",
       "  <thead>\n",
       "    <tr style=\"text-align: right;\">\n",
       "      <th></th>\n",
       "      <th>id</th>\n",
       "      <th>bdate</th>\n",
       "      <th>city</th>\n",
       "      <th>country_name</th>\n",
       "      <th>university_name</th>\n",
       "      <th>sex</th>\n",
       "      <th>first_name</th>\n",
       "      <th>last_name</th>\n",
       "      <th>access_type</th>\n",
       "      <th>game</th>\n",
       "    </tr>\n",
       "  </thead>\n",
       "  <tbody>\n",
       "    <tr>\n",
       "      <th>0</th>\n",
       "      <td>3744</td>\n",
       "      <td>10.5</td>\n",
       "      <td>Санкт-Петербург</td>\n",
       "      <td>Россия</td>\n",
       "      <td>СПбГУ</td>\n",
       "      <td>Male</td>\n",
       "      <td>Alexander</td>\n",
       "      <td>Ageyev</td>\n",
       "      <td>Open</td>\n",
       "      <td>Тарков</td>\n",
       "    </tr>\n",
       "    <tr>\n",
       "      <th>1</th>\n",
       "      <td>5217</td>\n",
       "      <td>29.7</td>\n",
       "      <td>Москва</td>\n",
       "      <td>Россия</td>\n",
       "      <td>NaN</td>\n",
       "      <td>Male</td>\n",
       "      <td>Никита</td>\n",
       "      <td>Красиков</td>\n",
       "      <td>Open</td>\n",
       "      <td>Тарков</td>\n",
       "    </tr>\n",
       "    <tr>\n",
       "      <th>2</th>\n",
       "      <td>7241</td>\n",
       "      <td>24.6</td>\n",
       "      <td>Санкт-Петербург</td>\n",
       "      <td>Россия</td>\n",
       "      <td>NaN</td>\n",
       "      <td>Male</td>\n",
       "      <td>Денис</td>\n",
       "      <td>Игоревич</td>\n",
       "      <td>Closed</td>\n",
       "      <td>Тарков</td>\n",
       "    </tr>\n",
       "    <tr>\n",
       "      <th>3</th>\n",
       "      <td>8315</td>\n",
       "      <td>19.6</td>\n",
       "      <td>Санкт-Петербург</td>\n",
       "      <td>Россия</td>\n",
       "      <td>NaN</td>\n",
       "      <td>Male</td>\n",
       "      <td>Иван</td>\n",
       "      <td>Ли</td>\n",
       "      <td>Closed</td>\n",
       "      <td>Тарков</td>\n",
       "    </tr>\n",
       "    <tr>\n",
       "      <th>4</th>\n",
       "      <td>8404</td>\n",
       "      <td>6.6.1987</td>\n",
       "      <td>Санкт-Петербург</td>\n",
       "      <td>Россия</td>\n",
       "      <td>СПбГЭТУ «ЛЭТИ»</td>\n",
       "      <td>Male</td>\n",
       "      <td>Александр</td>\n",
       "      <td>Петров</td>\n",
       "      <td>Open</td>\n",
       "      <td>Тарков</td>\n",
       "    </tr>\n",
       "    <tr>\n",
       "      <th>...</th>\n",
       "      <td>...</td>\n",
       "      <td>...</td>\n",
       "      <td>...</td>\n",
       "      <td>...</td>\n",
       "      <td>...</td>\n",
       "      <td>...</td>\n",
       "      <td>...</td>\n",
       "      <td>...</td>\n",
       "      <td>...</td>\n",
       "      <td>...</td>\n",
       "    </tr>\n",
       "    <tr>\n",
       "      <th>9693</th>\n",
       "      <td>91160706</td>\n",
       "      <td>7.9</td>\n",
       "      <td>Новосибирск</td>\n",
       "      <td>Россия</td>\n",
       "      <td>NaN</td>\n",
       "      <td>Female</td>\n",
       "      <td>Светлана</td>\n",
       "      <td>Фомышина</td>\n",
       "      <td>Open</td>\n",
       "      <td>Бравлстарс</td>\n",
       "    </tr>\n",
       "    <tr>\n",
       "      <th>9694</th>\n",
       "      <td>91177027</td>\n",
       "      <td>29.1.1974</td>\n",
       "      <td>Красноармейск</td>\n",
       "      <td>Россия</td>\n",
       "      <td>NaN</td>\n",
       "      <td>Male</td>\n",
       "      <td>Сергей</td>\n",
       "      <td>Квардонов</td>\n",
       "      <td>Closed</td>\n",
       "      <td>Бравлстарс</td>\n",
       "    </tr>\n",
       "    <tr>\n",
       "      <th>9695</th>\n",
       "      <td>91225145</td>\n",
       "      <td>18.6.1987</td>\n",
       "      <td>Мурманск</td>\n",
       "      <td>Россия</td>\n",
       "      <td>NaN</td>\n",
       "      <td>Female</td>\n",
       "      <td>Светлана</td>\n",
       "      <td>Нестерова</td>\n",
       "      <td>Open</td>\n",
       "      <td>Бравлстарс</td>\n",
       "    </tr>\n",
       "    <tr>\n",
       "      <th>9696</th>\n",
       "      <td>91226047</td>\n",
       "      <td>6.10.2000</td>\n",
       "      <td>Strasbourg</td>\n",
       "      <td>Франция</td>\n",
       "      <td>NaN</td>\n",
       "      <td>Male</td>\n",
       "      <td>Тамерлан</td>\n",
       "      <td>Калимуллин</td>\n",
       "      <td>Open</td>\n",
       "      <td>Бравлстарс</td>\n",
       "    </tr>\n",
       "    <tr>\n",
       "      <th>9697</th>\n",
       "      <td>91247242</td>\n",
       "      <td>21.9.1989</td>\n",
       "      <td>Минск</td>\n",
       "      <td>Беларусь</td>\n",
       "      <td>NaN</td>\n",
       "      <td>Male</td>\n",
       "      <td>Алексей</td>\n",
       "      <td>Muchkin</td>\n",
       "      <td>Open</td>\n",
       "      <td>Бравлстарс</td>\n",
       "    </tr>\n",
       "  </tbody>\n",
       "</table>\n",
       "<p>9698 rows × 10 columns</p>\n",
       "</div>"
      ],
      "text/plain": [
       "            id      bdate             city country_name university_name  \\\n",
       "0         3744       10.5  Санкт-Петербург       Россия           СПбГУ   \n",
       "1         5217       29.7           Москва       Россия             NaN   \n",
       "2         7241       24.6  Санкт-Петербург       Россия             NaN   \n",
       "3         8315       19.6  Санкт-Петербург       Россия             NaN   \n",
       "4         8404   6.6.1987  Санкт-Петербург       Россия  СПбГЭТУ «ЛЭТИ»   \n",
       "...        ...        ...              ...          ...             ...   \n",
       "9693  91160706        7.9      Новосибирск       Россия             NaN   \n",
       "9694  91177027  29.1.1974    Красноармейск       Россия             NaN   \n",
       "9695  91225145  18.6.1987         Мурманск       Россия             NaN   \n",
       "9696  91226047  6.10.2000       Strasbourg      Франция             NaN   \n",
       "9697  91247242  21.9.1989            Минск     Беларусь             NaN   \n",
       "\n",
       "         sex first_name   last_name access_type        game  \n",
       "0       Male  Alexander      Ageyev        Open      Тарков  \n",
       "1       Male     Никита    Красиков        Open      Тарков  \n",
       "2       Male      Денис    Игоревич      Closed      Тарков  \n",
       "3       Male       Иван          Ли      Closed      Тарков  \n",
       "4       Male  Александр      Петров        Open      Тарков  \n",
       "...      ...        ...         ...         ...         ...  \n",
       "9693  Female   Светлана    Фомышина        Open  Бравлстарс  \n",
       "9694    Male     Сергей   Квардонов      Closed  Бравлстарс  \n",
       "9695  Female   Светлана   Нестерова        Open  Бравлстарс  \n",
       "9696    Male   Тамерлан  Калимуллин        Open  Бравлстарс  \n",
       "9697    Male    Алексей     Muchkin        Open  Бравлстарс  \n",
       "\n",
       "[9698 rows x 10 columns]"
      ]
     },
     "execution_count": 41,
     "metadata": {},
     "output_type": "execute_result"
    }
   ],
   "source": [
    "# Корректирую столбец is_closed: переименовываю его в access_type\n",
    "subs_del.rename(columns={'is_closed' : 'access_type'}, inplace = True)\n",
    "# Меняю формулировку значений: False на Open, True на Closed\n",
    "subs_del['access_type'] = subs_del['access_type'].replace(False, 'Open')\n",
    "subs_del['access_type'] = subs_del['access_type'].replace(True, 'Closed')\n",
    "# Проверяю\n",
    "subs_del\n",
    "# Все заменилось успешно"
   ]
  },
  {
   "cell_type": "markdown",
   "metadata": {},
   "source": [
    "### B_year"
   ]
  },
  {
   "cell_type": "code",
   "execution_count": 42,
   "metadata": {},
   "outputs": [],
   "source": [
    "# Попробую привести значения столбца bdate к о одному виду. Для этого создаю новый датафрейм\n",
    "subs_bd = subs_del"
   ]
  },
  {
   "cell_type": "code",
   "execution_count": 43,
   "metadata": {},
   "outputs": [
    {
     "data": {
      "text/html": [
       "<div>\n",
       "<style scoped>\n",
       "    .dataframe tbody tr th:only-of-type {\n",
       "        vertical-align: middle;\n",
       "    }\n",
       "\n",
       "    .dataframe tbody tr th {\n",
       "        vertical-align: top;\n",
       "    }\n",
       "\n",
       "    .dataframe thead th {\n",
       "        text-align: right;\n",
       "    }\n",
       "</style>\n",
       "<table border=\"1\" class=\"dataframe\">\n",
       "  <thead>\n",
       "    <tr style=\"text-align: right;\">\n",
       "      <th></th>\n",
       "      <th>id</th>\n",
       "      <th>bdate</th>\n",
       "      <th>b_year</th>\n",
       "      <th>city</th>\n",
       "      <th>country_name</th>\n",
       "      <th>university_name</th>\n",
       "      <th>sex</th>\n",
       "      <th>first_name</th>\n",
       "      <th>last_name</th>\n",
       "      <th>access_type</th>\n",
       "      <th>game</th>\n",
       "    </tr>\n",
       "  </thead>\n",
       "  <tbody>\n",
       "    <tr>\n",
       "      <th>0</th>\n",
       "      <td>3744</td>\n",
       "      <td>10.5</td>\n",
       "      <td>None</td>\n",
       "      <td>Санкт-Петербург</td>\n",
       "      <td>Россия</td>\n",
       "      <td>СПбГУ</td>\n",
       "      <td>Male</td>\n",
       "      <td>Alexander</td>\n",
       "      <td>Ageyev</td>\n",
       "      <td>Open</td>\n",
       "      <td>Тарков</td>\n",
       "    </tr>\n",
       "    <tr>\n",
       "      <th>1</th>\n",
       "      <td>5217</td>\n",
       "      <td>29.7</td>\n",
       "      <td>None</td>\n",
       "      <td>Москва</td>\n",
       "      <td>Россия</td>\n",
       "      <td>NaN</td>\n",
       "      <td>Male</td>\n",
       "      <td>Никита</td>\n",
       "      <td>Красиков</td>\n",
       "      <td>Open</td>\n",
       "      <td>Тарков</td>\n",
       "    </tr>\n",
       "    <tr>\n",
       "      <th>2</th>\n",
       "      <td>7241</td>\n",
       "      <td>24.6</td>\n",
       "      <td>None</td>\n",
       "      <td>Санкт-Петербург</td>\n",
       "      <td>Россия</td>\n",
       "      <td>NaN</td>\n",
       "      <td>Male</td>\n",
       "      <td>Денис</td>\n",
       "      <td>Игоревич</td>\n",
       "      <td>Closed</td>\n",
       "      <td>Тарков</td>\n",
       "    </tr>\n",
       "    <tr>\n",
       "      <th>3</th>\n",
       "      <td>8315</td>\n",
       "      <td>19.6</td>\n",
       "      <td>None</td>\n",
       "      <td>Санкт-Петербург</td>\n",
       "      <td>Россия</td>\n",
       "      <td>NaN</td>\n",
       "      <td>Male</td>\n",
       "      <td>Иван</td>\n",
       "      <td>Ли</td>\n",
       "      <td>Closed</td>\n",
       "      <td>Тарков</td>\n",
       "    </tr>\n",
       "    <tr>\n",
       "      <th>4</th>\n",
       "      <td>8404</td>\n",
       "      <td>6.6.1987</td>\n",
       "      <td>1987</td>\n",
       "      <td>Санкт-Петербург</td>\n",
       "      <td>Россия</td>\n",
       "      <td>СПбГЭТУ «ЛЭТИ»</td>\n",
       "      <td>Male</td>\n",
       "      <td>Александр</td>\n",
       "      <td>Петров</td>\n",
       "      <td>Open</td>\n",
       "      <td>Тарков</td>\n",
       "    </tr>\n",
       "    <tr>\n",
       "      <th>...</th>\n",
       "      <td>...</td>\n",
       "      <td>...</td>\n",
       "      <td>...</td>\n",
       "      <td>...</td>\n",
       "      <td>...</td>\n",
       "      <td>...</td>\n",
       "      <td>...</td>\n",
       "      <td>...</td>\n",
       "      <td>...</td>\n",
       "      <td>...</td>\n",
       "      <td>...</td>\n",
       "    </tr>\n",
       "    <tr>\n",
       "      <th>9693</th>\n",
       "      <td>91160706</td>\n",
       "      <td>7.9</td>\n",
       "      <td>None</td>\n",
       "      <td>Новосибирск</td>\n",
       "      <td>Россия</td>\n",
       "      <td>NaN</td>\n",
       "      <td>Female</td>\n",
       "      <td>Светлана</td>\n",
       "      <td>Фомышина</td>\n",
       "      <td>Open</td>\n",
       "      <td>Бравлстарс</td>\n",
       "    </tr>\n",
       "    <tr>\n",
       "      <th>9694</th>\n",
       "      <td>91177027</td>\n",
       "      <td>29.1.1974</td>\n",
       "      <td>1974</td>\n",
       "      <td>Красноармейск</td>\n",
       "      <td>Россия</td>\n",
       "      <td>NaN</td>\n",
       "      <td>Male</td>\n",
       "      <td>Сергей</td>\n",
       "      <td>Квардонов</td>\n",
       "      <td>Closed</td>\n",
       "      <td>Бравлстарс</td>\n",
       "    </tr>\n",
       "    <tr>\n",
       "      <th>9695</th>\n",
       "      <td>91225145</td>\n",
       "      <td>18.6.1987</td>\n",
       "      <td>1987</td>\n",
       "      <td>Мурманск</td>\n",
       "      <td>Россия</td>\n",
       "      <td>NaN</td>\n",
       "      <td>Female</td>\n",
       "      <td>Светлана</td>\n",
       "      <td>Нестерова</td>\n",
       "      <td>Open</td>\n",
       "      <td>Бравлстарс</td>\n",
       "    </tr>\n",
       "    <tr>\n",
       "      <th>9696</th>\n",
       "      <td>91226047</td>\n",
       "      <td>6.10.2000</td>\n",
       "      <td>2000</td>\n",
       "      <td>Strasbourg</td>\n",
       "      <td>Франция</td>\n",
       "      <td>NaN</td>\n",
       "      <td>Male</td>\n",
       "      <td>Тамерлан</td>\n",
       "      <td>Калимуллин</td>\n",
       "      <td>Open</td>\n",
       "      <td>Бравлстарс</td>\n",
       "    </tr>\n",
       "    <tr>\n",
       "      <th>9697</th>\n",
       "      <td>91247242</td>\n",
       "      <td>21.9.1989</td>\n",
       "      <td>1989</td>\n",
       "      <td>Минск</td>\n",
       "      <td>Беларусь</td>\n",
       "      <td>NaN</td>\n",
       "      <td>Male</td>\n",
       "      <td>Алексей</td>\n",
       "      <td>Muchkin</td>\n",
       "      <td>Open</td>\n",
       "      <td>Бравлстарс</td>\n",
       "    </tr>\n",
       "  </tbody>\n",
       "</table>\n",
       "<p>9698 rows × 11 columns</p>\n",
       "</div>"
      ],
      "text/plain": [
       "            id      bdate b_year             city country_name  \\\n",
       "0         3744       10.5   None  Санкт-Петербург       Россия   \n",
       "1         5217       29.7   None           Москва       Россия   \n",
       "2         7241       24.6   None  Санкт-Петербург       Россия   \n",
       "3         8315       19.6   None  Санкт-Петербург       Россия   \n",
       "4         8404   6.6.1987   1987  Санкт-Петербург       Россия   \n",
       "...        ...        ...    ...              ...          ...   \n",
       "9693  91160706        7.9   None      Новосибирск       Россия   \n",
       "9694  91177027  29.1.1974   1974    Красноармейск       Россия   \n",
       "9695  91225145  18.6.1987   1987         Мурманск       Россия   \n",
       "9696  91226047  6.10.2000   2000       Strasbourg      Франция   \n",
       "9697  91247242  21.9.1989   1989            Минск     Беларусь   \n",
       "\n",
       "     university_name     sex first_name   last_name access_type        game  \n",
       "0              СПбГУ    Male  Alexander      Ageyev        Open      Тарков  \n",
       "1                NaN    Male     Никита    Красиков        Open      Тарков  \n",
       "2                NaN    Male      Денис    Игоревич      Closed      Тарков  \n",
       "3                NaN    Male       Иван          Ли      Closed      Тарков  \n",
       "4     СПбГЭТУ «ЛЭТИ»    Male  Александр      Петров        Open      Тарков  \n",
       "...              ...     ...        ...         ...         ...         ...  \n",
       "9693             NaN  Female   Светлана    Фомышина        Open  Бравлстарс  \n",
       "9694             NaN    Male     Сергей   Квардонов      Closed  Бравлстарс  \n",
       "9695             NaN  Female   Светлана   Нестерова        Open  Бравлстарс  \n",
       "9696             NaN    Male   Тамерлан  Калимуллин        Open  Бравлстарс  \n",
       "9697             NaN    Male    Алексей     Muchkin        Open  Бравлстарс  \n",
       "\n",
       "[9698 rows x 11 columns]"
      ]
     },
     "execution_count": 43,
     "metadata": {},
     "output_type": "execute_result"
    }
   ],
   "source": [
    "# В еще один датафрейм записываю результат деления по разделителю '.'\n",
    "bd = subs_del['bdate'].str.split('.', expand=True)\n",
    "# Убираю лишние колонки\n",
    "bd.drop(bd.columns[[0,1]], axis= 1 , inplace= True )\n",
    "# Переименовываю колонку с годом рождения\n",
    "bd = bd.rename(columns={0: 'b_year'})\n",
    "# Добавляю это колонку в датасет\n",
    "subs_bd.insert (2, 'b_year', bd)\n",
    "# Проверяю\n",
    "subs_bd"
   ]
  },
  {
   "cell_type": "code",
   "execution_count": 44,
   "metadata": {},
   "outputs": [
    {
     "data": {
      "text/plain": [
       "id                    0\n",
       "bdate                 0\n",
       "b_year             3984\n",
       "city                  0\n",
       "country_name          0\n",
       "university_name    8160\n",
       "sex                   0\n",
       "first_name            0\n",
       "last_name             0\n",
       "access_type           0\n",
       "game                  0\n",
       "dtype: int64"
      ]
     },
     "execution_count": 44,
     "metadata": {},
     "output_type": "execute_result"
    }
   ],
   "source": [
    "# Смотрю количество пропущенных значений\n",
    "subs_bd.isnull().sum()"
   ]
  },
  {
   "cell_type": "code",
   "execution_count": 45,
   "metadata": {},
   "outputs": [
    {
     "data": {
      "text/plain": [
       "id                    0\n",
       "bdate                 0\n",
       "b_year                0\n",
       "city                  0\n",
       "country_name          0\n",
       "university_name    4666\n",
       "sex                   0\n",
       "first_name            0\n",
       "last_name             0\n",
       "access_type           0\n",
       "game                  0\n",
       "dtype: int64"
      ]
     },
     "execution_count": 45,
     "metadata": {},
     "output_type": "execute_result"
    }
   ],
   "source": [
    "# Удаляю пропуски\n",
    "subs_bd = subs_bd.dropna(subset=['b_year'])\n",
    "# Проверяю\n",
    "subs_bd.isnull().sum()"
   ]
  },
  {
   "cell_type": "code",
   "execution_count": 47,
   "metadata": {},
   "outputs": [
    {
     "name": "stderr",
     "output_type": "stream",
     "text": [
      "C:\\Users\\HP\\AppData\\Local\\Temp\\ipykernel_24192\\2735630915.py:2: SettingWithCopyWarning: \n",
      "A value is trying to be set on a copy of a slice from a DataFrame.\n",
      "Try using .loc[row_indexer,col_indexer] = value instead\n",
      "\n",
      "See the caveats in the documentation: https://pandas.pydata.org/pandas-docs/stable/user_guide/indexing.html#returning-a-view-versus-a-copy\n",
      "  subs_bd['b_year'] = pd.to_numeric(subs_bd['b_year'], errors= 'coerce')\n",
      "C:\\Users\\HP\\AppData\\Local\\Temp\\ipykernel_24192\\2735630915.py:4: SettingWithCopyWarning: \n",
      "A value is trying to be set on a copy of a slice from a DataFrame.\n",
      "Try using .loc[row_indexer,col_indexer] = value instead\n",
      "\n",
      "See the caveats in the documentation: https://pandas.pydata.org/pandas-docs/stable/user_guide/indexing.html#returning-a-view-versus-a-copy\n",
      "  subs_bd['age'] = 2024 - subs_bd['b_year']\n"
     ]
    },
    {
     "data": {
      "text/html": [
       "<div>\n",
       "<style scoped>\n",
       "    .dataframe tbody tr th:only-of-type {\n",
       "        vertical-align: middle;\n",
       "    }\n",
       "\n",
       "    .dataframe tbody tr th {\n",
       "        vertical-align: top;\n",
       "    }\n",
       "\n",
       "    .dataframe thead th {\n",
       "        text-align: right;\n",
       "    }\n",
       "</style>\n",
       "<table border=\"1\" class=\"dataframe\">\n",
       "  <thead>\n",
       "    <tr style=\"text-align: right;\">\n",
       "      <th></th>\n",
       "      <th>id</th>\n",
       "      <th>bdate</th>\n",
       "      <th>b_year</th>\n",
       "      <th>city</th>\n",
       "      <th>country_name</th>\n",
       "      <th>university_name</th>\n",
       "      <th>sex</th>\n",
       "      <th>first_name</th>\n",
       "      <th>last_name</th>\n",
       "      <th>access_type</th>\n",
       "      <th>game</th>\n",
       "      <th>age</th>\n",
       "    </tr>\n",
       "  </thead>\n",
       "  <tbody>\n",
       "    <tr>\n",
       "      <th>4</th>\n",
       "      <td>8404</td>\n",
       "      <td>6.6.1987</td>\n",
       "      <td>1987</td>\n",
       "      <td>Санкт-Петербург</td>\n",
       "      <td>Россия</td>\n",
       "      <td>СПбГЭТУ «ЛЭТИ»</td>\n",
       "      <td>Male</td>\n",
       "      <td>Александр</td>\n",
       "      <td>Петров</td>\n",
       "      <td>Open</td>\n",
       "      <td>Тарков</td>\n",
       "      <td>37</td>\n",
       "    </tr>\n",
       "    <tr>\n",
       "      <th>5</th>\n",
       "      <td>11107</td>\n",
       "      <td>4.11.1986</td>\n",
       "      <td>1986</td>\n",
       "      <td>Санкт-Петербург</td>\n",
       "      <td>Россия</td>\n",
       "      <td>NaN</td>\n",
       "      <td>Male</td>\n",
       "      <td>Никита</td>\n",
       "      <td>Буянов</td>\n",
       "      <td>Closed</td>\n",
       "      <td>Тарков</td>\n",
       "      <td>38</td>\n",
       "    </tr>\n",
       "    <tr>\n",
       "      <th>6</th>\n",
       "      <td>14345</td>\n",
       "      <td>19.1.1986</td>\n",
       "      <td>1986</td>\n",
       "      <td>Санкт-Петербург</td>\n",
       "      <td>Россия</td>\n",
       "      <td>СПбПУ Петра Великого (Политех)</td>\n",
       "      <td>Male</td>\n",
       "      <td>Николай</td>\n",
       "      <td>Дьяченко</td>\n",
       "      <td>Open</td>\n",
       "      <td>Тарков</td>\n",
       "      <td>38</td>\n",
       "    </tr>\n",
       "    <tr>\n",
       "      <th>7</th>\n",
       "      <td>23634</td>\n",
       "      <td>28.2.1988</td>\n",
       "      <td>1988</td>\n",
       "      <td>Санкт-Петербург</td>\n",
       "      <td>Россия</td>\n",
       "      <td>NaN</td>\n",
       "      <td>Male</td>\n",
       "      <td>Николай</td>\n",
       "      <td>Песчанский</td>\n",
       "      <td>Open</td>\n",
       "      <td>Тарков</td>\n",
       "      <td>36</td>\n",
       "    </tr>\n",
       "    <tr>\n",
       "      <th>8</th>\n",
       "      <td>27679</td>\n",
       "      <td>1.12.1989</td>\n",
       "      <td>1989</td>\n",
       "      <td>Санкт-Петербург</td>\n",
       "      <td>Россия</td>\n",
       "      <td>NaN</td>\n",
       "      <td>Male</td>\n",
       "      <td>Николай</td>\n",
       "      <td>Цыганков</td>\n",
       "      <td>Open</td>\n",
       "      <td>Тарков</td>\n",
       "      <td>35</td>\n",
       "    </tr>\n",
       "    <tr>\n",
       "      <th>...</th>\n",
       "      <td>...</td>\n",
       "      <td>...</td>\n",
       "      <td>...</td>\n",
       "      <td>...</td>\n",
       "      <td>...</td>\n",
       "      <td>...</td>\n",
       "      <td>...</td>\n",
       "      <td>...</td>\n",
       "      <td>...</td>\n",
       "      <td>...</td>\n",
       "      <td>...</td>\n",
       "      <td>...</td>\n",
       "    </tr>\n",
       "    <tr>\n",
       "      <th>9691</th>\n",
       "      <td>91148937</td>\n",
       "      <td>25.10.1983</td>\n",
       "      <td>1983</td>\n",
       "      <td>Кемерово</td>\n",
       "      <td>Россия</td>\n",
       "      <td>КузГТУ им. Т. Ф. Горбачёва</td>\n",
       "      <td>Male</td>\n",
       "      <td>Николай</td>\n",
       "      <td>Мерзляков</td>\n",
       "      <td>Open</td>\n",
       "      <td>Бравлстарс</td>\n",
       "      <td>41</td>\n",
       "    </tr>\n",
       "    <tr>\n",
       "      <th>9694</th>\n",
       "      <td>91177027</td>\n",
       "      <td>29.1.1974</td>\n",
       "      <td>1974</td>\n",
       "      <td>Красноармейск</td>\n",
       "      <td>Россия</td>\n",
       "      <td>NaN</td>\n",
       "      <td>Male</td>\n",
       "      <td>Сергей</td>\n",
       "      <td>Квардонов</td>\n",
       "      <td>Closed</td>\n",
       "      <td>Бравлстарс</td>\n",
       "      <td>50</td>\n",
       "    </tr>\n",
       "    <tr>\n",
       "      <th>9695</th>\n",
       "      <td>91225145</td>\n",
       "      <td>18.6.1987</td>\n",
       "      <td>1987</td>\n",
       "      <td>Мурманск</td>\n",
       "      <td>Россия</td>\n",
       "      <td>NaN</td>\n",
       "      <td>Female</td>\n",
       "      <td>Светлана</td>\n",
       "      <td>Нестерова</td>\n",
       "      <td>Open</td>\n",
       "      <td>Бравлстарс</td>\n",
       "      <td>37</td>\n",
       "    </tr>\n",
       "    <tr>\n",
       "      <th>9696</th>\n",
       "      <td>91226047</td>\n",
       "      <td>6.10.2000</td>\n",
       "      <td>2000</td>\n",
       "      <td>Strasbourg</td>\n",
       "      <td>Франция</td>\n",
       "      <td>NaN</td>\n",
       "      <td>Male</td>\n",
       "      <td>Тамерлан</td>\n",
       "      <td>Калимуллин</td>\n",
       "      <td>Open</td>\n",
       "      <td>Бравлстарс</td>\n",
       "      <td>24</td>\n",
       "    </tr>\n",
       "    <tr>\n",
       "      <th>9697</th>\n",
       "      <td>91247242</td>\n",
       "      <td>21.9.1989</td>\n",
       "      <td>1989</td>\n",
       "      <td>Минск</td>\n",
       "      <td>Беларусь</td>\n",
       "      <td>NaN</td>\n",
       "      <td>Male</td>\n",
       "      <td>Алексей</td>\n",
       "      <td>Muchkin</td>\n",
       "      <td>Open</td>\n",
       "      <td>Бравлстарс</td>\n",
       "      <td>35</td>\n",
       "    </tr>\n",
       "  </tbody>\n",
       "</table>\n",
       "<p>5714 rows × 12 columns</p>\n",
       "</div>"
      ],
      "text/plain": [
       "            id       bdate  b_year             city country_name  \\\n",
       "4         8404    6.6.1987    1987  Санкт-Петербург       Россия   \n",
       "5        11107   4.11.1986    1986  Санкт-Петербург       Россия   \n",
       "6        14345   19.1.1986    1986  Санкт-Петербург       Россия   \n",
       "7        23634   28.2.1988    1988  Санкт-Петербург       Россия   \n",
       "8        27679   1.12.1989    1989  Санкт-Петербург       Россия   \n",
       "...        ...         ...     ...              ...          ...   \n",
       "9691  91148937  25.10.1983    1983         Кемерово       Россия   \n",
       "9694  91177027   29.1.1974    1974    Красноармейск       Россия   \n",
       "9695  91225145   18.6.1987    1987         Мурманск       Россия   \n",
       "9696  91226047   6.10.2000    2000       Strasbourg      Франция   \n",
       "9697  91247242   21.9.1989    1989            Минск     Беларусь   \n",
       "\n",
       "                     university_name     sex first_name   last_name  \\\n",
       "4                     СПбГЭТУ «ЛЭТИ»    Male  Александр      Петров   \n",
       "5                                NaN    Male     Никита      Буянов   \n",
       "6     СПбПУ Петра Великого (Политех)    Male    Николай    Дьяченко   \n",
       "7                                NaN    Male    Николай  Песчанский   \n",
       "8                                NaN    Male    Николай    Цыганков   \n",
       "...                              ...     ...        ...         ...   \n",
       "9691      КузГТУ им. Т. Ф. Горбачёва    Male    Николай   Мерзляков   \n",
       "9694                             NaN    Male     Сергей   Квардонов   \n",
       "9695                             NaN  Female   Светлана   Нестерова   \n",
       "9696                             NaN    Male   Тамерлан  Калимуллин   \n",
       "9697                             NaN    Male    Алексей     Muchkin   \n",
       "\n",
       "     access_type        game  age  \n",
       "4           Open      Тарков   37  \n",
       "5         Closed      Тарков   38  \n",
       "6           Open      Тарков   38  \n",
       "7           Open      Тарков   36  \n",
       "8           Open      Тарков   35  \n",
       "...          ...         ...  ...  \n",
       "9691        Open  Бравлстарс   41  \n",
       "9694      Closed  Бравлстарс   50  \n",
       "9695        Open  Бравлстарс   37  \n",
       "9696        Open  Бравлстарс   24  \n",
       "9697        Open  Бравлстарс   35  \n",
       "\n",
       "[5714 rows x 12 columns]"
      ]
     },
     "execution_count": 47,
     "metadata": {},
     "output_type": "execute_result"
    }
   ],
   "source": [
    "# Чтобы вычислить возраст, перевожу значиния стобца b_year из object в int\n",
    "subs_bd['b_year'] = pd.to_numeric(subs_bd['b_year'], errors= 'coerce')\n",
    "# Делаю приблизительное вычисление, не учитывающее месяц рождения\n",
    "subs_bd['age'] = 2024 - subs_bd['b_year']\n",
    "# Проверяю\n",
    "subs_bd"
   ]
  },
  {
   "cell_type": "code",
   "execution_count": 48,
   "metadata": {},
   "outputs": [],
   "source": [
    "# Сохраняю результат в таблицу csv\n",
    "subs_bd.to_csv('subs_f.csv', sep=',')"
   ]
  },
  {
   "cell_type": "code",
   "execution_count": 63,
   "metadata": {},
   "outputs": [
    {
     "data": {
      "text/html": [
       "<div>\n",
       "<style scoped>\n",
       "    .dataframe tbody tr th:only-of-type {\n",
       "        vertical-align: middle;\n",
       "    }\n",
       "\n",
       "    .dataframe tbody tr th {\n",
       "        vertical-align: top;\n",
       "    }\n",
       "\n",
       "    .dataframe thead th {\n",
       "        text-align: right;\n",
       "    }\n",
       "</style>\n",
       "<table border=\"1\" class=\"dataframe\">\n",
       "  <thead>\n",
       "    <tr style=\"text-align: right;\">\n",
       "      <th></th>\n",
       "      <th>id</th>\n",
       "      <th>bdate</th>\n",
       "      <th>b_year</th>\n",
       "      <th>city</th>\n",
       "      <th>country_name</th>\n",
       "      <th>university_name</th>\n",
       "      <th>sex</th>\n",
       "      <th>first_name</th>\n",
       "      <th>last_name</th>\n",
       "      <th>access_type</th>\n",
       "      <th>game</th>\n",
       "      <th>age</th>\n",
       "    </tr>\n",
       "  </thead>\n",
       "  <tbody>\n",
       "    <tr>\n",
       "      <th>0</th>\n",
       "      <td>8404</td>\n",
       "      <td>6.6.1987</td>\n",
       "      <td>1987</td>\n",
       "      <td>Санкт-Петербург</td>\n",
       "      <td>Россия</td>\n",
       "      <td>СПбГЭТУ «ЛЭТИ»</td>\n",
       "      <td>Male</td>\n",
       "      <td>Александр</td>\n",
       "      <td>Петров</td>\n",
       "      <td>Open</td>\n",
       "      <td>Тарков</td>\n",
       "      <td>37</td>\n",
       "    </tr>\n",
       "    <tr>\n",
       "      <th>1</th>\n",
       "      <td>11107</td>\n",
       "      <td>4.11.1986</td>\n",
       "      <td>1986</td>\n",
       "      <td>Санкт-Петербург</td>\n",
       "      <td>Россия</td>\n",
       "      <td>NaN</td>\n",
       "      <td>Male</td>\n",
       "      <td>Никита</td>\n",
       "      <td>Буянов</td>\n",
       "      <td>Closed</td>\n",
       "      <td>Тарков</td>\n",
       "      <td>38</td>\n",
       "    </tr>\n",
       "    <tr>\n",
       "      <th>2</th>\n",
       "      <td>14345</td>\n",
       "      <td>19.1.1986</td>\n",
       "      <td>1986</td>\n",
       "      <td>Санкт-Петербург</td>\n",
       "      <td>Россия</td>\n",
       "      <td>СПбПУ Петра Великого (Политех)</td>\n",
       "      <td>Male</td>\n",
       "      <td>Николай</td>\n",
       "      <td>Дьяченко</td>\n",
       "      <td>Open</td>\n",
       "      <td>Тарков</td>\n",
       "      <td>38</td>\n",
       "    </tr>\n",
       "    <tr>\n",
       "      <th>3</th>\n",
       "      <td>23634</td>\n",
       "      <td>28.2.1988</td>\n",
       "      <td>1988</td>\n",
       "      <td>Санкт-Петербург</td>\n",
       "      <td>Россия</td>\n",
       "      <td>NaN</td>\n",
       "      <td>Male</td>\n",
       "      <td>Николай</td>\n",
       "      <td>Песчанский</td>\n",
       "      <td>Open</td>\n",
       "      <td>Тарков</td>\n",
       "      <td>36</td>\n",
       "    </tr>\n",
       "    <tr>\n",
       "      <th>4</th>\n",
       "      <td>27679</td>\n",
       "      <td>1.12.1989</td>\n",
       "      <td>1989</td>\n",
       "      <td>Санкт-Петербург</td>\n",
       "      <td>Россия</td>\n",
       "      <td>NaN</td>\n",
       "      <td>Male</td>\n",
       "      <td>Николай</td>\n",
       "      <td>Цыганков</td>\n",
       "      <td>Open</td>\n",
       "      <td>Тарков</td>\n",
       "      <td>35</td>\n",
       "    </tr>\n",
       "    <tr>\n",
       "      <th>...</th>\n",
       "      <td>...</td>\n",
       "      <td>...</td>\n",
       "      <td>...</td>\n",
       "      <td>...</td>\n",
       "      <td>...</td>\n",
       "      <td>...</td>\n",
       "      <td>...</td>\n",
       "      <td>...</td>\n",
       "      <td>...</td>\n",
       "      <td>...</td>\n",
       "      <td>...</td>\n",
       "      <td>...</td>\n",
       "    </tr>\n",
       "    <tr>\n",
       "      <th>5709</th>\n",
       "      <td>91148937</td>\n",
       "      <td>25.10.1983</td>\n",
       "      <td>1983</td>\n",
       "      <td>Кемерово</td>\n",
       "      <td>Россия</td>\n",
       "      <td>КузГТУ им. Т. Ф. Горбачёва</td>\n",
       "      <td>Male</td>\n",
       "      <td>Николай</td>\n",
       "      <td>Мерзляков</td>\n",
       "      <td>Open</td>\n",
       "      <td>Бравлстарс</td>\n",
       "      <td>41</td>\n",
       "    </tr>\n",
       "    <tr>\n",
       "      <th>5710</th>\n",
       "      <td>91177027</td>\n",
       "      <td>29.1.1974</td>\n",
       "      <td>1974</td>\n",
       "      <td>Красноармейск</td>\n",
       "      <td>Россия</td>\n",
       "      <td>NaN</td>\n",
       "      <td>Male</td>\n",
       "      <td>Сергей</td>\n",
       "      <td>Квардонов</td>\n",
       "      <td>Closed</td>\n",
       "      <td>Бравлстарс</td>\n",
       "      <td>50</td>\n",
       "    </tr>\n",
       "    <tr>\n",
       "      <th>5711</th>\n",
       "      <td>91225145</td>\n",
       "      <td>18.6.1987</td>\n",
       "      <td>1987</td>\n",
       "      <td>Мурманск</td>\n",
       "      <td>Россия</td>\n",
       "      <td>NaN</td>\n",
       "      <td>Female</td>\n",
       "      <td>Светлана</td>\n",
       "      <td>Нестерова</td>\n",
       "      <td>Open</td>\n",
       "      <td>Бравлстарс</td>\n",
       "      <td>37</td>\n",
       "    </tr>\n",
       "    <tr>\n",
       "      <th>5712</th>\n",
       "      <td>91226047</td>\n",
       "      <td>6.10.2000</td>\n",
       "      <td>2000</td>\n",
       "      <td>Strasbourg</td>\n",
       "      <td>Франция</td>\n",
       "      <td>NaN</td>\n",
       "      <td>Male</td>\n",
       "      <td>Тамерлан</td>\n",
       "      <td>Калимуллин</td>\n",
       "      <td>Open</td>\n",
       "      <td>Бравлстарс</td>\n",
       "      <td>24</td>\n",
       "    </tr>\n",
       "    <tr>\n",
       "      <th>5713</th>\n",
       "      <td>91247242</td>\n",
       "      <td>21.9.1989</td>\n",
       "      <td>1989</td>\n",
       "      <td>Минск</td>\n",
       "      <td>Беларусь</td>\n",
       "      <td>NaN</td>\n",
       "      <td>Male</td>\n",
       "      <td>Алексей</td>\n",
       "      <td>Muchkin</td>\n",
       "      <td>Open</td>\n",
       "      <td>Бравлстарс</td>\n",
       "      <td>35</td>\n",
       "    </tr>\n",
       "  </tbody>\n",
       "</table>\n",
       "<p>5714 rows × 12 columns</p>\n",
       "</div>"
      ],
      "text/plain": [
       "            id       bdate  b_year             city country_name  \\\n",
       "0         8404    6.6.1987    1987  Санкт-Петербург       Россия   \n",
       "1        11107   4.11.1986    1986  Санкт-Петербург       Россия   \n",
       "2        14345   19.1.1986    1986  Санкт-Петербург       Россия   \n",
       "3        23634   28.2.1988    1988  Санкт-Петербург       Россия   \n",
       "4        27679   1.12.1989    1989  Санкт-Петербург       Россия   \n",
       "...        ...         ...     ...              ...          ...   \n",
       "5709  91148937  25.10.1983    1983         Кемерово       Россия   \n",
       "5710  91177027   29.1.1974    1974    Красноармейск       Россия   \n",
       "5711  91225145   18.6.1987    1987         Мурманск       Россия   \n",
       "5712  91226047   6.10.2000    2000       Strasbourg      Франция   \n",
       "5713  91247242   21.9.1989    1989            Минск     Беларусь   \n",
       "\n",
       "                     university_name     sex first_name   last_name  \\\n",
       "0                     СПбГЭТУ «ЛЭТИ»    Male  Александр      Петров   \n",
       "1                                NaN    Male     Никита      Буянов   \n",
       "2     СПбПУ Петра Великого (Политех)    Male    Николай    Дьяченко   \n",
       "3                                NaN    Male    Николай  Песчанский   \n",
       "4                                NaN    Male    Николай    Цыганков   \n",
       "...                              ...     ...        ...         ...   \n",
       "5709      КузГТУ им. Т. Ф. Горбачёва    Male    Николай   Мерзляков   \n",
       "5710                             NaN    Male     Сергей   Квардонов   \n",
       "5711                             NaN  Female   Светлана   Нестерова   \n",
       "5712                             NaN    Male   Тамерлан  Калимуллин   \n",
       "5713                             NaN    Male    Алексей     Muchkin   \n",
       "\n",
       "     access_type        game  age  \n",
       "0           Open      Тарков   37  \n",
       "1         Closed      Тарков   38  \n",
       "2           Open      Тарков   38  \n",
       "3           Open      Тарков   36  \n",
       "4           Open      Тарков   35  \n",
       "...          ...         ...  ...  \n",
       "5709        Open  Бравлстарс   41  \n",
       "5710      Closed  Бравлстарс   50  \n",
       "5711        Open  Бравлстарс   37  \n",
       "5712        Open  Бравлстарс   24  \n",
       "5713        Open  Бравлстарс   35  \n",
       "\n",
       "[5714 rows x 12 columns]"
      ]
     },
     "execution_count": 63,
     "metadata": {},
     "output_type": "execute_result"
    }
   ],
   "source": [
    "# После перезахода обратно загружаю таблицу csv в датафрейм pandas.\n",
    "subs_bd = pd.read_csv('subs_f.csv')\n",
    "subs_bd = subs_bd.drop(subs_bd.columns[[0]], axis=1)\n",
    "subs_bd"
   ]
  },
  {
   "cell_type": "markdown",
   "metadata": {},
   "source": [
    "<font color='purple'> Датасет почищен за исключением столбца university_name, в котором находится слишком малое количество ненулевых значений. Для решения этой проблемы, в теории можно было на этапе выгрузки значительно расширить выборку, чтобы в нее точно набралось как минимум 5 тысяч пользователей, с у казанным университетом. Однако, не у всех пользователей может быть указан университет в силу их возраста, то есть при удалении пустых значений, потерялась бы часть изучаемой аудитории."
   ]
  },
  {
   "cell_type": "markdown",
   "metadata": {},
   "source": [
    "# Анализ и визуализация"
   ]
  },
  {
   "cell_type": "markdown",
   "metadata": {},
   "source": [
    "## Подсчеты"
   ]
  },
  {
   "cell_type": "code",
   "execution_count": 93,
   "metadata": {},
   "outputs": [
    {
     "data": {
      "text/plain": [
       "51"
      ]
     },
     "execution_count": 93,
     "metadata": {},
     "output_type": "execute_result"
    }
   ],
   "source": [
    "# Смотрю сколько уникальных значений по параметру стран\n",
    "subs_bd['country_name'].nunique()"
   ]
  },
  {
   "cell_type": "code",
   "execution_count": 70,
   "metadata": {},
   "outputs": [
    {
     "data": {
      "text/plain": [
       "Россия       5226\n",
       "Украина       171\n",
       "Беларусь      144\n",
       "Казахстан      37\n",
       "США            16\n",
       "Германия       12\n",
       "Эстония        11\n",
       "Испания         9\n",
       "Молдова         8\n",
       "Кипр            5\n",
       "Name: country_name, dtype: int64"
      ]
     },
     "execution_count": 70,
     "metadata": {},
     "output_type": "execute_result"
    }
   ],
   "source": [
    "# Вывожу топ 10 стран по пользователям трех пабликов\n",
    "subs_bd['country_name'].value_counts().head(10)"
   ]
  },
  {
   "cell_type": "markdown",
   "metadata": {},
   "source": [
    "<font color='purple'> Первые страны в топе довольно предсказуемы, потому что контент Вконтакте как раз предназначен для русскоговорящего и СНГ регионов. Так как в ВК можно без дополнительной проверки указывать в профиле страну, я ожидал, что будет больше стран по типу США. Видимо, далеко не все пользователи пользуются данной возможностью."
   ]
  },
  {
   "cell_type": "code",
   "execution_count": 80,
   "metadata": {},
   "outputs": [
    {
     "data": {
      "text/plain": [
       "809"
      ]
     },
     "execution_count": 80,
     "metadata": {},
     "output_type": "execute_result"
    }
   ],
   "source": [
    "# Смотрю сколько уникальных значений по городам\n",
    "subs_bd['city'].nunique()"
   ]
  },
  {
   "cell_type": "code",
   "execution_count": 77,
   "metadata": {},
   "outputs": [
    {
     "data": {
      "text/plain": [
       "Москва             1100\n",
       "Санкт-Петербург     702\n",
       "Екатеринбург        126\n",
       "Новосибирск         108\n",
       "Самара               81\n",
       "Нижний Новгород      80\n",
       "Казань               76\n",
       "Красноярск           73\n",
       "Краснодар            68\n",
       "Минск                65\n",
       "Name: city, dtype: int64"
      ]
     },
     "execution_count": 77,
     "metadata": {},
     "output_type": "execute_result"
    }
   ],
   "source": [
    "# Вывожу топ 10 городов по пользователям трех пабликов\n",
    "subs_bd['city'].value_counts().head(10)"
   ]
  },
  {
   "cell_type": "markdown",
   "metadata": {},
   "source": [
    "<font color='purple'> Примечательно, что расположение первых четырех городов почти польностью коррелирует с численностью их населения (Екатеринбург и Новосибирск должы поменться местами для corr==1) "
   ]
  },
  {
   "cell_type": "code",
   "execution_count": 81,
   "metadata": {},
   "outputs": [
    {
     "data": {
      "text/plain": [
       "594"
      ]
     },
     "execution_count": 81,
     "metadata": {},
     "output_type": "execute_result"
    }
   ],
   "source": [
    "# Смотрю количество уникальных значений по университетам\n",
    "subs_bd['university_name'].nunique()"
   ]
  },
  {
   "cell_type": "code",
   "execution_count": 92,
   "metadata": {},
   "outputs": [
    {
     "data": {
      "text/plain": [
       "СПбПУ Петра Великого (Политех)                      13\n",
       "МФПУ «Синергия» (бывш. МФПА, ММИЭИФП)               11\n",
       "МАИ                                                 10\n",
       "МГУ                                                 10\n",
       "МГТУ им. Н. Э. Баумана (бывш. МВТУ)                  8\n",
       "РУТ (МИИТ) (бывш. МГУПС Императора Николая II)       8\n",
       "СПбГУ                                                8\n",
       "УдГУ                                                 7\n",
       "ГУАП                                                 7\n",
       "СПбГЭУ                                               7\n",
       "ИжГТУ им. М. Т. Калашникова (бывш. ИМИ)              7\n",
       "РГПУ им. А. И. Герцена                               7\n",
       "ТюмГНГУ                                              6\n",
       "УрФУ им. первого Президента России Б. Н. Ельцина     6\n",
       "ТюмГУ                                                6\n",
       "Name: university_name, dtype: int64"
      ]
     },
     "execution_count": 92,
     "metadata": {},
     "output_type": "execute_result"
    }
   ],
   "source": [
    "# Вывожу топ 15 по количеству подписчиков из этих университетов\n",
    "subs_bd['university_name'].value_counts().head(15)"
   ]
  },
  {
   "cell_type": "markdown",
   "metadata": {},
   "source": [
    "<font color='purple'> Интересно, что в топе немного самых крупных вузов страны, что возможно связано со среднем возрастом подписчиков (будет проюллюстрированно далее). То есть, примерно 18 лет назад популярность и масштабность вузов страны значительно отличались от сегодняшней ситуации."
   ]
  },
  {
   "cell_type": "code",
   "execution_count": 96,
   "metadata": {},
   "outputs": [
    {
     "data": {
      "text/plain": [
       "Open      4411\n",
       "Closed    1303\n",
       "Name: access_type, dtype: int64"
      ]
     },
     "execution_count": 96,
     "metadata": {},
     "output_type": "execute_result"
    }
   ],
   "source": [
    "# Смотрю количество закрытых и открытых профилей\n",
    "subs_bd['access_type'].value_counts()"
   ]
  },
  {
   "cell_type": "markdown",
   "metadata": {},
   "source": [
    "<font color='purple'> Я ожидал, что если и между открытыми и закрытыми профилями не будет примерно равного соотношения, то, основываясь на опыте пользования Вконтакте, вероятнее, что закрытых профилей будет больше. Но цифры говорят об обратном. Это можно объяснить: 1 - тем, что ограничения доступа к профилю - это относительно недавняя функция, 2 - тем, что среди более взрослых пользователей такая функция пользуется меньшим спросом, чем среди младших подписчиков."
   ]
  },
  {
   "cell_type": "markdown",
   "metadata": {},
   "source": [
    "## Таблицы"
   ]
  },
  {
   "cell_type": "code",
   "execution_count": 76,
   "metadata": {},
   "outputs": [
    {
     "data": {
      "text/plain": [
       "game\n",
       "Бравлстарс    1988.0\n",
       "Дестени       1990.0\n",
       "Тарков        1990.0\n",
       "Name: b_year, dtype: float64"
      ]
     },
     "execution_count": 76,
     "metadata": {},
     "output_type": "execute_result"
    }
   ],
   "source": [
    "# Получаю медианный год рождения подписчиков для каждой игры\n",
    "subs_bd.groupby('game')['b_year'].median()"
   ]
  },
  {
   "cell_type": "code",
   "execution_count": 64,
   "metadata": {},
   "outputs": [
    {
     "data": {
      "text/plain": [
       "game\n",
       "Бравлстарс    36.0\n",
       "Дестени       34.0\n",
       "Тарков        34.0\n",
       "Name: age, dtype: float64"
      ]
     },
     "execution_count": 64,
     "metadata": {},
     "output_type": "execute_result"
    }
   ],
   "source": [
    "# Получаю медианный возраст подписчиков для каждой игры\n",
    "subs_bd.groupby('game')['age'].median().sort_values(ascending=False)"
   ]
  },
  {
   "cell_type": "markdown",
   "metadata": {},
   "source": [
    "<font color='purple'> Две предыдущие таблицы хоть и репрезентируют одно и тоже, но результаты от этого не становяться менее удивительными. Не только средней возраст подписчиков паблликов про современные видеоигры оказался равен примерно 35 годам, но и игра brawlstars, которая значительно других нацелена на младшую аудиторию, имеет наибольшый медианный возраст подписчика. Возможно, такое смещение произошло при скачке данных, во время которой брались id тех пользователей, которые первые подписались на определенный паблик. А поскольку паблики существуют на протяжении нескольких лет (кроме Таркова), к ним, возможно, сначала присоединялись более взрослые пользователи.\n",
    "    \n",
    "<font color='purple'> Есть еще шанс того, что подписчики выставляли ненастоящий свой возраст, но, по идее, количество данных в выборке должно было нивелировать такое смещение."
   ]
  },
  {
   "cell_type": "code",
   "execution_count": 65,
   "metadata": {},
   "outputs": [
    {
     "data": {
      "text/plain": [
       "sex\n",
       "Female    36.0\n",
       "Male      34.0\n",
       "Name: age, dtype: float64"
      ]
     },
     "execution_count": 65,
     "metadata": {},
     "output_type": "execute_result"
    }
   ],
   "source": [
    "# Получаю медианный возраст подписчиков по полу\n",
    "subs_bd.groupby('sex')['age'].median().sort_values(ascending=False)\n",
    "# Разичие хоть и небольшое, но медианный возраст подписчиц оказался выше"
   ]
  },
  {
   "cell_type": "code",
   "execution_count": 66,
   "metadata": {},
   "outputs": [
    {
     "data": {
      "text/plain": [
       "sex     game      \n",
       "Male    Тарков        2011\n",
       "        Дестени       1845\n",
       "        Бравлстарс    1072\n",
       "Female  Бравлстарс     639\n",
       "        Дестени        111\n",
       "        Тарков          36\n",
       "Name: id, dtype: int64"
      ]
     },
     "execution_count": 66,
     "metadata": {},
     "output_type": "execute_result"
    }
   ],
   "source": [
    "# Получаю количество подписчиков по полу и игре\n",
    "subs_bd.groupby(['sex', 'game'])['id'].count().sort_values(ascending=False)"
   ]
  },
  {
   "cell_type": "code",
   "execution_count": null,
   "metadata": {},
   "outputs": [],
   "source": []
  },
  {
   "cell_type": "code",
   "execution_count": 67,
   "metadata": {},
   "outputs": [
    {
     "data": {
      "text/plain": [
       "access_type  game      \n",
       "Open         Тарков        1701\n",
       "             Дестени       1485\n",
       "             Бравлстарс    1225\n",
       "Closed       Бравлстарс     486\n",
       "             Дестени        471\n",
       "             Тарков         346\n",
       "Name: id, dtype: int64"
      ]
     },
     "execution_count": 67,
     "metadata": {},
     "output_type": "execute_result"
    }
   ],
   "source": [
    "# Получаю количество подписчиков по типу аккаунта и игре\n",
    "subs_bd.groupby(['access_type', 'game'])['id'].count().sort_values(ascending=False)"
   ]
  },
  {
   "cell_type": "code",
   "execution_count": 79,
   "metadata": {},
   "outputs": [
    {
     "data": {
      "text/plain": [
       "city             game      \n",
       "Москва           Дестени       456\n",
       "                 Тарков        408\n",
       "Санкт-Петербург  Дестени       261\n",
       "                 Тарков        253\n",
       "Москва           Бравлстарс    236\n",
       "Санкт-Петербург  Бравлстарс    188\n",
       "Екатеринбург     Тарков         52\n",
       "Name: id, dtype: int64"
      ]
     },
     "execution_count": 79,
     "metadata": {},
     "output_type": "execute_result"
    }
   ],
   "source": [
    "# Получаю количество подписчиков по городу и игре\n",
    "subs_bd.groupby(['city', 'game'])['id'].count().sort_values(ascending=False).head(7)"
   ]
  },
  {
   "cell_type": "code",
   "execution_count": 95,
   "metadata": {},
   "outputs": [
    {
     "data": {
      "text/html": [
       "<div>\n",
       "<style scoped>\n",
       "    .dataframe tbody tr th:only-of-type {\n",
       "        vertical-align: middle;\n",
       "    }\n",
       "\n",
       "    .dataframe tbody tr th {\n",
       "        vertical-align: top;\n",
       "    }\n",
       "\n",
       "    .dataframe thead th {\n",
       "        text-align: right;\n",
       "    }\n",
       "</style>\n",
       "<table border=\"1\" class=\"dataframe\">\n",
       "  <thead>\n",
       "    <tr style=\"text-align: right;\">\n",
       "      <th></th>\n",
       "      <th>id</th>\n",
       "      <th>b_year</th>\n",
       "      <th>age</th>\n",
       "    </tr>\n",
       "  </thead>\n",
       "  <tbody>\n",
       "    <tr>\n",
       "      <th>id</th>\n",
       "      <td>1.000000</td>\n",
       "      <td>0.079549</td>\n",
       "      <td>-0.079549</td>\n",
       "    </tr>\n",
       "    <tr>\n",
       "      <th>b_year</th>\n",
       "      <td>0.079549</td>\n",
       "      <td>1.000000</td>\n",
       "      <td>-1.000000</td>\n",
       "    </tr>\n",
       "    <tr>\n",
       "      <th>age</th>\n",
       "      <td>-0.079549</td>\n",
       "      <td>-1.000000</td>\n",
       "      <td>1.000000</td>\n",
       "    </tr>\n",
       "  </tbody>\n",
       "</table>\n",
       "</div>"
      ],
      "text/plain": [
       "              id    b_year       age\n",
       "id      1.000000  0.079549 -0.079549\n",
       "b_year  0.079549  1.000000 -1.000000\n",
       "age    -0.079549 -1.000000  1.000000"
      ]
     },
     "execution_count": 95,
     "metadata": {},
     "output_type": "execute_result"
    }
   ],
   "source": [
    "subs_bd.corr()"
   ]
  },
  {
   "cell_type": "markdown",
   "metadata": {},
   "source": [
    "## Графики"
   ]
  },
  {
   "cell_type": "code",
   "execution_count": 97,
   "metadata": {},
   "outputs": [
    {
     "data": {
      "text/plain": [
       "<matplotlib.collections.PathCollection at 0x22941f34f70>"
      ]
     },
     "execution_count": 97,
     "metadata": {},
     "output_type": "execute_result"
    },
    {
     "data": {
      "image/png": "[encoded data removed]",
      "text/plain": [
       "<Figure size 640x480 with 1 Axes>"
      ]
     },
     "metadata": {},
     "output_type": "display_data"
    }
   ],
   "source": [
    "plt.title(\"График 1\", fontweight='bold', family= 'serif')\n",
    "plt.xlabel(\"id подписчика\")\n",
    "plt.ylabel(\"год рождения подписчика\")\n",
    "plt.scatter(subs_bd[\"id\"], subs_bd[\"b_year\"], color = \"#e53935\")"
   ]
  },
  {
   "cell_type": "code",
   "execution_count": 103,
   "metadata": {},
   "outputs": [
    {
     "data": {
      "text/plain": [
       "<AxesSubplot:title={'center':'Выбросы среди возрастов'}, xlabel='Количество id'>"
      ]
     },
     "execution_count": 103,
     "metadata": {},
     "output_type": "execute_result"
    },
    {
     "data": {
      "image/png": "[encoded data removed]",
      "text/plain": [
       "<Figure size 640x480 with 1 Axes>"
      ]
     },
     "metadata": {},
     "output_type": "display_data"
    }
   ],
   "source": [
    "plt.title(\"Выбросы среди возрастов\", fontweight='bold', family= 'serif')\n",
    "plt.xlabel(\"Количество id\")\n",
    "subs_bd['b_year'].plot(kind = \"box\", vert=False)"
   ]
  },
  {
   "cell_type": "code",
   "execution_count": 100,
   "metadata": {},
   "outputs": [
    {
     "data": {
      "text/html": [
       "<div>\n",
       "<style scoped>\n",
       "    .dataframe tbody tr th:only-of-type {\n",
       "        vertical-align: middle;\n",
       "    }\n",
       "\n",
       "    .dataframe tbody tr th {\n",
       "        vertical-align: top;\n",
       "    }\n",
       "\n",
       "    .dataframe thead th {\n",
       "        text-align: right;\n",
       "    }\n",
       "</style>\n",
       "<table border=\"1\" class=\"dataframe\">\n",
       "  <thead>\n",
       "    <tr style=\"text-align: right;\">\n",
       "      <th></th>\n",
       "      <th>id</th>\n",
       "      <th>bdate</th>\n",
       "      <th>b_year</th>\n",
       "      <th>city</th>\n",
       "      <th>country_name</th>\n",
       "      <th>university_name</th>\n",
       "      <th>sex</th>\n",
       "      <th>first_name</th>\n",
       "      <th>last_name</th>\n",
       "      <th>access_type</th>\n",
       "      <th>game</th>\n",
       "      <th>age</th>\n",
       "    </tr>\n",
       "  </thead>\n",
       "  <tbody>\n",
       "    <tr>\n",
       "      <th>329</th>\n",
       "      <td>3864002</td>\n",
       "      <td>17.1.1901</td>\n",
       "      <td>1901</td>\n",
       "      <td>Москва</td>\n",
       "      <td>Россия</td>\n",
       "      <td>NaN</td>\n",
       "      <td>Male</td>\n",
       "      <td>Вадим</td>\n",
       "      <td>Малькевич</td>\n",
       "      <td>Closed</td>\n",
       "      <td>Тарков</td>\n",
       "      <td>123</td>\n",
       "    </tr>\n",
       "    <tr>\n",
       "      <th>809</th>\n",
       "      <td>10569822</td>\n",
       "      <td>16.8.1901</td>\n",
       "      <td>1901</td>\n",
       "      <td>Новокуйбышевск</td>\n",
       "      <td>Россия</td>\n",
       "      <td>СГАУ им. С. П. Королева</td>\n",
       "      <td>Male</td>\n",
       "      <td>Антон</td>\n",
       "      <td>Брагин</td>\n",
       "      <td>Open</td>\n",
       "      <td>Тарков</td>\n",
       "      <td>123</td>\n",
       "    </tr>\n",
       "    <tr>\n",
       "      <th>974</th>\n",
       "      <td>13378739</td>\n",
       "      <td>1.1.1901</td>\n",
       "      <td>1901</td>\n",
       "      <td>Москва</td>\n",
       "      <td>Россия</td>\n",
       "      <td>NaN</td>\n",
       "      <td>Male</td>\n",
       "      <td>Максим</td>\n",
       "      <td>Indefinite</td>\n",
       "      <td>Closed</td>\n",
       "      <td>Тарков</td>\n",
       "      <td>123</td>\n",
       "    </tr>\n",
       "    <tr>\n",
       "      <th>1138</th>\n",
       "      <td>15742339</td>\n",
       "      <td>1.1.1901</td>\n",
       "      <td>1901</td>\n",
       "      <td>Томск</td>\n",
       "      <td>Россия</td>\n",
       "      <td>NaN</td>\n",
       "      <td>Male</td>\n",
       "      <td>Klassik</td>\n",
       "      <td>Владислав</td>\n",
       "      <td>Open</td>\n",
       "      <td>Тарков</td>\n",
       "      <td>123</td>\n",
       "    </tr>\n",
       "    <tr>\n",
       "      <th>1171</th>\n",
       "      <td>16298917</td>\n",
       "      <td>22.7.1901</td>\n",
       "      <td>1901</td>\n",
       "      <td>Москва</td>\n",
       "      <td>Россия</td>\n",
       "      <td>NaN</td>\n",
       "      <td>Male</td>\n",
       "      <td>Олег</td>\n",
       "      <td>Шишов</td>\n",
       "      <td>Closed</td>\n",
       "      <td>Тарков</td>\n",
       "      <td>123</td>\n",
       "    </tr>\n",
       "    <tr>\n",
       "      <th>1333</th>\n",
       "      <td>19241999</td>\n",
       "      <td>19.7.1901</td>\n",
       "      <td>1901</td>\n",
       "      <td>Xai-Xai</td>\n",
       "      <td>Мозамбик</td>\n",
       "      <td>NaN</td>\n",
       "      <td>Male</td>\n",
       "      <td>Игорь</td>\n",
       "      <td>Рудаков</td>\n",
       "      <td>Open</td>\n",
       "      <td>Тарков</td>\n",
       "      <td>123</td>\n",
       "    </tr>\n",
       "    <tr>\n",
       "      <th>1358</th>\n",
       "      <td>19702477</td>\n",
       "      <td>28.11.1901</td>\n",
       "      <td>1901</td>\n",
       "      <td>Альметьевск</td>\n",
       "      <td>Россия</td>\n",
       "      <td>NaN</td>\n",
       "      <td>Male</td>\n",
       "      <td>Алексей</td>\n",
       "      <td>Солунов</td>\n",
       "      <td>Open</td>\n",
       "      <td>Тарков</td>\n",
       "      <td>123</td>\n",
       "    </tr>\n",
       "    <tr>\n",
       "      <th>3256</th>\n",
       "      <td>19470500</td>\n",
       "      <td>10.8.1901</td>\n",
       "      <td>1901</td>\n",
       "      <td>Москва</td>\n",
       "      <td>Россия</td>\n",
       "      <td>NaN</td>\n",
       "      <td>Male</td>\n",
       "      <td>Антон</td>\n",
       "      <td>Фёдоров</td>\n",
       "      <td>Open</td>\n",
       "      <td>Дестени</td>\n",
       "      <td>123</td>\n",
       "    </tr>\n",
       "    <tr>\n",
       "      <th>3531</th>\n",
       "      <td>27079658</td>\n",
       "      <td>28.9.1901</td>\n",
       "      <td>1901</td>\n",
       "      <td>Barcelona</td>\n",
       "      <td>Испания</td>\n",
       "      <td>NaN</td>\n",
       "      <td>Male</td>\n",
       "      <td>Никита</td>\n",
       "      <td>Лобанов</td>\n",
       "      <td>Closed</td>\n",
       "      <td>Дестени</td>\n",
       "      <td>123</td>\n",
       "    </tr>\n",
       "    <tr>\n",
       "      <th>3564</th>\n",
       "      <td>27826603</td>\n",
       "      <td>12.2.1901</td>\n",
       "      <td>1901</td>\n",
       "      <td>Санкт-Петербург</td>\n",
       "      <td>Россия</td>\n",
       "      <td>NaN</td>\n",
       "      <td>Male</td>\n",
       "      <td>Алексей</td>\n",
       "      <td>Кочуковский</td>\n",
       "      <td>Open</td>\n",
       "      <td>Дестени</td>\n",
       "      <td>123</td>\n",
       "    </tr>\n",
       "    <tr>\n",
       "      <th>4976</th>\n",
       "      <td>37496356</td>\n",
       "      <td>11.11.1901</td>\n",
       "      <td>1901</td>\n",
       "      <td>Санкт-Петербург</td>\n",
       "      <td>Россия</td>\n",
       "      <td>NaN</td>\n",
       "      <td>Male</td>\n",
       "      <td>Данила</td>\n",
       "      <td>Ишков</td>\n",
       "      <td>Closed</td>\n",
       "      <td>Бравлстарс</td>\n",
       "      <td>123</td>\n",
       "    </tr>\n",
       "    <tr>\n",
       "      <th>5034</th>\n",
       "      <td>41254862</td>\n",
       "      <td>15.10.1901</td>\n",
       "      <td>1901</td>\n",
       "      <td>Москва</td>\n",
       "      <td>Россия</td>\n",
       "      <td>NaN</td>\n",
       "      <td>Female</td>\n",
       "      <td>Оксана</td>\n",
       "      <td>Макеева</td>\n",
       "      <td>Open</td>\n",
       "      <td>Бравлстарс</td>\n",
       "      <td>123</td>\n",
       "    </tr>\n",
       "    <tr>\n",
       "      <th>5183</th>\n",
       "      <td>52488970</td>\n",
       "      <td>25.5.1901</td>\n",
       "      <td>1901</td>\n",
       "      <td>Ижевск</td>\n",
       "      <td>Россия</td>\n",
       "      <td>NaN</td>\n",
       "      <td>Male</td>\n",
       "      <td>Лено</td>\n",
       "      <td>Давыдова</td>\n",
       "      <td>Open</td>\n",
       "      <td>Бравлстарс</td>\n",
       "      <td>123</td>\n",
       "    </tr>\n",
       "    <tr>\n",
       "      <th>5273</th>\n",
       "      <td>58272205</td>\n",
       "      <td>1.1.1901</td>\n",
       "      <td>1901</td>\n",
       "      <td>Бисерть</td>\n",
       "      <td>Россия</td>\n",
       "      <td>NaN</td>\n",
       "      <td>Male</td>\n",
       "      <td>Матвей</td>\n",
       "      <td>Гущин</td>\n",
       "      <td>Open</td>\n",
       "      <td>Бравлстарс</td>\n",
       "      <td>123</td>\n",
       "    </tr>\n",
       "    <tr>\n",
       "      <th>5478</th>\n",
       "      <td>72179478</td>\n",
       "      <td>16.12.1901</td>\n",
       "      <td>1901</td>\n",
       "      <td>Москва</td>\n",
       "      <td>Россия</td>\n",
       "      <td>NaN</td>\n",
       "      <td>Female</td>\n",
       "      <td>Каролина</td>\n",
       "      <td>Хафизова</td>\n",
       "      <td>Closed</td>\n",
       "      <td>Бравлстарс</td>\n",
       "      <td>123</td>\n",
       "    </tr>\n",
       "    <tr>\n",
       "      <th>5541</th>\n",
       "      <td>77783547</td>\n",
       "      <td>10.12.1901</td>\n",
       "      <td>1901</td>\n",
       "      <td>Гомель</td>\n",
       "      <td>Беларусь</td>\n",
       "      <td>NaN</td>\n",
       "      <td>Male</td>\n",
       "      <td>Денис</td>\n",
       "      <td>Лозбень</td>\n",
       "      <td>Open</td>\n",
       "      <td>Бравлстарс</td>\n",
       "      <td>123</td>\n",
       "    </tr>\n",
       "    <tr>\n",
       "      <th>5678</th>\n",
       "      <td>88283655</td>\n",
       "      <td>23.12.1901</td>\n",
       "      <td>1901</td>\n",
       "      <td>Архангельск</td>\n",
       "      <td>Россия</td>\n",
       "      <td>NaN</td>\n",
       "      <td>Male</td>\n",
       "      <td>Андрей</td>\n",
       "      <td>Брагин</td>\n",
       "      <td>Closed</td>\n",
       "      <td>Бравлстарс</td>\n",
       "      <td>123</td>\n",
       "    </tr>\n",
       "  </tbody>\n",
       "</table>\n",
       "</div>"
      ],
      "text/plain": [
       "            id       bdate  b_year             city country_name  \\\n",
       "329    3864002   17.1.1901    1901           Москва       Россия   \n",
       "809   10569822   16.8.1901    1901   Новокуйбышевск       Россия   \n",
       "974   13378739    1.1.1901    1901           Москва       Россия   \n",
       "1138  15742339    1.1.1901    1901            Томск       Россия   \n",
       "1171  16298917   22.7.1901    1901           Москва       Россия   \n",
       "1333  19241999   19.7.1901    1901          Xai-Xai     Мозамбик   \n",
       "1358  19702477  28.11.1901    1901      Альметьевск       Россия   \n",
       "3256  19470500   10.8.1901    1901           Москва       Россия   \n",
       "3531  27079658   28.9.1901    1901        Barcelona      Испания   \n",
       "3564  27826603   12.2.1901    1901  Санкт-Петербург       Россия   \n",
       "4976  37496356  11.11.1901    1901  Санкт-Петербург       Россия   \n",
       "5034  41254862  15.10.1901    1901           Москва       Россия   \n",
       "5183  52488970   25.5.1901    1901           Ижевск       Россия   \n",
       "5273  58272205    1.1.1901    1901          Бисерть       Россия   \n",
       "5478  72179478  16.12.1901    1901           Москва       Россия   \n",
       "5541  77783547  10.12.1901    1901           Гомель     Беларусь   \n",
       "5678  88283655  23.12.1901    1901      Архангельск       Россия   \n",
       "\n",
       "              university_name     sex first_name    last_name access_type  \\\n",
       "329                       NaN    Male      Вадим    Малькевич      Closed   \n",
       "809   СГАУ им. С. П. Королева    Male      Антон       Брагин        Open   \n",
       "974                       NaN    Male     Максим   Indefinite      Closed   \n",
       "1138                      NaN    Male    Klassik    Владислав        Open   \n",
       "1171                      NaN    Male       Олег        Шишов      Closed   \n",
       "1333                      NaN    Male      Игорь      Рудаков        Open   \n",
       "1358                      NaN    Male    Алексей      Солунов        Open   \n",
       "3256                      NaN    Male      Антон      Фёдоров        Open   \n",
       "3531                      NaN    Male     Никита      Лобанов      Closed   \n",
       "3564                      NaN    Male    Алексей  Кочуковский        Open   \n",
       "4976                      NaN    Male     Данила        Ишков      Closed   \n",
       "5034                      NaN  Female     Оксана      Макеева        Open   \n",
       "5183                      NaN    Male       Лено     Давыдова        Open   \n",
       "5273                      NaN    Male     Матвей        Гущин        Open   \n",
       "5478                      NaN  Female   Каролина     Хафизова      Closed   \n",
       "5541                      NaN    Male      Денис      Лозбень        Open   \n",
       "5678                      NaN    Male     Андрей       Брагин      Closed   \n",
       "\n",
       "            game  age  \n",
       "329       Тарков  123  \n",
       "809       Тарков  123  \n",
       "974       Тарков  123  \n",
       "1138      Тарков  123  \n",
       "1171      Тарков  123  \n",
       "1333      Тарков  123  \n",
       "1358      Тарков  123  \n",
       "3256     Дестени  123  \n",
       "3531     Дестени  123  \n",
       "3564     Дестени  123  \n",
       "4976  Бравлстарс  123  \n",
       "5034  Бравлстарс  123  \n",
       "5183  Бравлстарс  123  \n",
       "5273  Бравлстарс  123  \n",
       "5478  Бравлстарс  123  \n",
       "5541  Бравлстарс  123  \n",
       "5678  Бравлстарс  123  "
      ]
     },
     "execution_count": 100,
     "metadata": {},
     "output_type": "execute_result"
    }
   ],
   "source": [
    "subs_bd[subs_bd['b_year']==1901]"
   ]
  },
  {
   "cell_type": "code",
   "execution_count": null,
   "metadata": {},
   "outputs": [],
   "source": []
  }
 ],
 "metadata": {
  "kernelspec": {
   "display_name": "Python 3 (ipykernel)",
   "language": "python",
   "name": "python3"
  },
  "language_info": {
   "codemirror_mode": {
    "name": "ipython",
    "version": 3
   },
   "file_extension": ".py",
   "mimetype": "text/x-python",
   "name": "python",
   "nbconvert_exporter": "python",
   "pygments_lexer": "ipython3",
   "version": "3.9.13"
  },
  "varInspector": {
   "cols": {
    "lenName": 16,
    "lenType": 16,
    "lenVar": 40
   },
   "kernels_config": {
    "python": {
     "delete_cmd_postfix": "",
     "delete_cmd_prefix": "del ",
     "library": "var_list.py",
     "varRefreshCmd": "print(var_dic_list())"
    },
    "r": {
     "delete_cmd_postfix": ") ",
     "delete_cmd_prefix": "rm(",
     "library": "var_list.r",
     "varRefreshCmd": "cat(var_dic_list()) "
    }
   },
   "position": {
    "height": "465px",
    "left": "862px",
    "right": "20px",
    "top": "120px",
    "width": "504px"
   },
   "types_to_exclude": [
    "module",
    "function",
    "builtin_function_or_method",
    "instance",
    "_Feature"
   ],
   "window_display": false
  }
 },
 "nbformat": 4,
 "nbformat_minor": 2
}
